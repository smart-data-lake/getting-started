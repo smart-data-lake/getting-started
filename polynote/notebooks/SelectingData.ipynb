{
  "metadata" : {
    "config" : {
      "dependencies" : {
        "scala" : [
          "file:///mnt/lib/getting-started-1.0.jar"
        ]
      },
      "exclusions" : [
      ],
      "repositories" : [
        {
          "maven" : {
            "base" : "https://oss.sonatype.org/content/repositories/snapshots/"
          }
        }
      ],
      "sparkConfig" : {
        "spark.master" : "local[*]",
        "spark.databricks.delta.snapshotPartitions" : "2"
      },
      "env" : {
        
      }
    },
    "language_info" : {
      "name" : "scala"
    }
  },
  "nbformat" : 4,
  "nbformat_minor" : 0,
  "cells" : [
    {
      "cell_type" : "markdown",
      "execution_count" : 0,
      "metadata" : {
        "language" : "text"
      },
      "language" : "text",
      "source" : [
        "## Show tables with Scala and Spark\n",
        "\n"
      ],
      "outputs" : [
      ]
    },
    {
      "cell_type" : "code",
      "execution_count" : 1,
      "metadata" : {
        "cell.metadata.exec_info" : {
          "startTs" : 1678657697716,
          "endTs" : 1678657706447
        },
        "language" : "scala"
      },
      "language" : "scala",
      "source" : [
        "spark.catalog.listTables.show(false)"
      ],
      "outputs" : [
        {
          "name" : "stdout",
          "text" : [
            "+--------------------------------+--------+-----------+---------+-----------+\n",
            "|name                            |database|description|tableType|isTemporary|\n",
            "+--------------------------------+--------+-----------+---------+-----------+\n",
            "|btl_departures_arrivals_airports|default |null       |EXTERNAL |false      |\n",
            "|btl_distances                   |default |null       |EXTERNAL |false      |\n",
            "|int_airports                    |default |null       |EXTERNAL |false      |\n",
            "|int_departures                  |default |null       |EXTERNAL |false      |\n",
            "+--------------------------------+--------+-----------+---------+-----------+\n",
            "\n"
          ],
          "output_type" : "stream"
        }
      ]
    },
    {
      "cell_type" : "markdown",
      "execution_count" : 2,
      "metadata" : {
        "language" : "text"
      },
      "language" : "text",
      "source" : [
        "## Use SQL\n",
        "\n",
        "<div>To display result you need to click on the table symbol after \"Out: DataFrame\", then execute the new inspection cell...</div><div>For me this is a little bit troublesome in the current Polynote version. I like more using Spark DataFrame's show statement.</div>"
      ],
      "outputs" : [
      ]
    },
    {
      "cell_type" : "code",
      "execution_count" : 3,
      "metadata" : {
        "cell.metadata.exec_info" : {
          "startTs" : 1678629683271
        },
        "language" : "sql"
      },
      "language" : "sql",
      "source" : [
        "select * from default.btl_distances where estarrivalairport = 'LEPA'"
      ],
      "outputs" : [
      ]
    },
    {
      "cell_type" : "code",
      "execution_count" : 4,
      "metadata" : {
        "cell.metadata.exec_info" : {
          "startTs" : 1678629686471,
          "endTs" : 1678629695934
        },
        "language" : "scala"
      },
      "language" : "scala",
      "source" : [
        "spark.sql(\"select * from default.btl_distances where estarrivalairport = 'LEPA'\").show"
      ],
      "outputs" : [
        {
          "name" : "stdout",
          "text" : [
            "+-------------------+-----------------+--------------------+----------------+-----------------+-----------------+----------------+-----------------+-----------------+---------------------+\n",
            "|estdepartureairport|estarrivalairport|            arr_name|arr_latitude_deg|arr_longitude_deg|         dep_name|dep_latitude_deg|dep_longitude_deg|         distance|could_be_done_by_rail|\n",
            "+-------------------+-----------------+--------------------+----------------+-----------------+-----------------+----------------+-----------------+-----------------+---------------------+\n",
            "|               LSZB|             LEPA|Palma de Mallorca...|       39.551701|          2.73881|Bern-Belp Airport|       46.913419|         7.499747|904.4677807313127|                false|\n",
            "+-------------------+-----------------+--------------------+----------------+-----------------+-----------------+----------------+-----------------+-----------------+---------------------+\n",
            "\n"
          ],
          "output_type" : "stream"
        }
      ]
    },
    {
      "cell_type" : "code",
      "execution_count" : 5,
      "metadata" : {
        "cell.metadata.exec_info" : {
          "startTs" : 1678629696764,
          "endTs" : 1678629699828
        },
        "language" : "scala"
      },
      "language" : "scala",
      "source" : [
        "spark.table(\"default.int_departures\").where($\"estarrivalairport\"===\"LEPA\").show"
      ],
      "outputs" : [
        {
          "name" : "stdout",
          "text" : [
            "+-----------------------------+--------+-------------------------------+-----------------+------------------------------+-----------------------------+-------------------+--------------------------------+-------------------------------+----------+------+----------+--------+--------------------+\n",
            "|arrivalAirportCandidatesCount|callsign|departureAirportCandidatesCount|estArrivalAirport|estArrivalAirportHorizDistance|estArrivalAirportVertDistance|estDepartureAirport|estDepartureAirportHorizDistance|estDepartureAirportVertDistance| firstSeen|icao24|  lastSeen|      dt|      dl_ts_captured|\n",
            "+-----------------------------+--------+-------------------------------+-----------------+------------------------------+-----------------------------+-------------------+--------------------------------+-------------------------------+----------+------+----------+--------+--------------------+\n",
            "|                            1|OAW24H  |                              0|             LEPA|                          3857|                           98|               LSZB|                             826|                             37|1630239018|4b028f|1630244264|20210829|2023-03-12 11:27:...|\n",
            "+-----------------------------+--------+-------------------------------+-----------------+------------------------------+-----------------------------+-------------------+--------------------------------+-------------------------------+----------+------+----------+--------+--------------------+\n",
            "\n"
          ],
          "output_type" : "stream"
        }
      ]
    },
    {
      "cell_type" : "markdown",
      "execution_count" : 6,
      "metadata" : {
        "language" : "text"
      },
      "language" : "text",
      "source" : [
        "## Select data by using DataObjects configured in SmartDataLake\n",
        "\n"
      ],
      "outputs" : [
      ]
    },
    {
      "cell_type" : "code",
      "execution_count" : 9,
      "metadata" : {
        "cell.metadata.exec_info" : {
          "startTs" : 1678658022697,
          "endTs" : 1678658026739
        },
        "language" : "scala"
      },
      "language" : "scala",
      "source" : [
        "import io.smartdatalake.generated.DataObjectCatalog\r\n",
        "import io.smartdatalake.lab.SmartDataLakeBuilderLab\r\n",
        "val sdlb = SmartDataLakeBuilderLab[DataObjectCatalog](spark, Seq(\"/mnt/config\"), DataObjectCatalog(_,_), Some(getClass.getClassLoader))\r\n",
        "val data = sdlb.data\r\n",
        "implicit val context = sdlb.context\r\n",
        "implicit val ss = spark"
      ],
      "outputs" : [
      ]
    },
    {
      "cell_type" : "code",
      "execution_count" : 11,
      "metadata" : {
        "cell.metadata.exec_info" : {
          "startTs" : 1678657862908,
          "endTs" : 1678657873239
        },
        "language" : "scala"
      },
      "language" : "scala",
      "source" : [
        "// get a dataobject\r\n",
        "val dataIntAirports = data.intAirports.get.show\r\n",
        "val dataIntDepartures = data.intDepartures.get.show"
      ],
      "outputs" : [
        {
          "name" : "stdout",
          "text" : [
            "+-----+--------------------+------------------+-------------------+--------------------+-------------------+\n",
            "|ident|                name|      latitude_deg|      longitude_deg|      dl_ts_captured|    dl_ts_delimited|\n",
            "+-----+--------------------+------------------+-------------------+--------------------+-------------------+\n",
            "|  00A|   Total Rf Heliport|    40.07080078125| -74.93360137939453|2023-03-12 11:26:...|9999-12-31 00:00:00|\n",
            "| 00AA|Aero B Ranch Airport|         38.704022|        -101.473911|2023-03-12 11:26:...|9999-12-31 00:00:00|\n",
            "| 00AK|        Lowell Field|         59.947733|        -151.692524|2023-03-12 11:26:...|9999-12-31 00:00:00|\n",
            "| 00AL|        Epps Airpark| 34.86479949951172| -86.77030181884766|2023-03-12 11:26:...|9999-12-31 00:00:00|\n",
            "| 00AS|      Fulton Airport|        34.9428028|        -97.8180194|2023-03-12 11:26:...|9999-12-31 00:00:00|\n",
            "| 00AZ|      Cordes Airport|34.305599212646484|-112.16500091552734|2023-03-12 11:26:...|9999-12-31 00:00:00|\n",
            "| 00CL| Williams Ag Airport|         39.427188|        -121.763427|2023-03-12 11:26:...|9999-12-31 00:00:00|\n",
            "| 00CN|Kitchen Creek Hel...|        32.7273736|       -116.4597417|2023-03-12 11:26:...|9999-12-31 00:00:00|\n",
            "| 00CO|          Cass Field|         40.622202|        -104.344002|2023-03-12 11:26:...|9999-12-31 00:00:00|\n",
            "| 00FL|   River Oak Airport|27.230899810791016| -80.96920013427734|2023-03-12 11:26:...|9999-12-31 00:00:00|\n",
            "| 00HI|  Kaupulehu Heliport|         19.832881|        -155.978347|2023-03-12 11:26:...|9999-12-31 00:00:00|\n",
            "| 00ID|Delta Shores Airport|48.145301818847656|-116.21399688720703|2023-03-12 11:26:...|9999-12-31 00:00:00|\n",
            "| 00II|Bailey Generation...|         41.644501|         -87.122803|2023-03-12 11:26:...|9999-12-31 00:00:00|\n",
            "| 00IN|St Mary Medical C...| 41.51139831542969|  -87.2605972290039|2023-03-12 11:26:...|9999-12-31 00:00:00|\n",
            "| 00MD|        Slater Field| 38.75709915161133| -75.75379943847656|2023-03-12 11:26:...|9999-12-31 00:00:00|\n",
            "| 00MN|Battle Lake Munic...| 46.29999923706055| -95.70030212402344|2023-03-12 11:26:...|9999-12-31 00:00:00|\n",
            "| 00MO|Cooper Flying Ser...|   37.202800750732|   -94.412399291992|2023-03-12 11:26:...|9999-12-31 00:00:00|\n",
            "|  00N|       Bucks Airport|39.473201751708984|  -75.1852035522461|2023-03-12 11:26:...|9999-12-31 00:00:00|\n",
            "| 00NC|North Raleigh Air...|36.085201263427734| -78.37139892578125|2023-03-12 11:26:...|9999-12-31 00:00:00|\n",
            "| 00NJ|Colgate-Piscatawa...| 40.52090072631836| -74.47460174560547|2023-03-12 11:26:...|9999-12-31 00:00:00|\n",
            "+-----+--------------------+------------------+-------------------+--------------------+-------------------+\n",
            "only showing top 20 rows\n",
            "\n",
            "+-----------------------------+--------+-------------------------------+-----------------+------------------------------+-----------------------------+-------------------+--------------------------------+-------------------------------+----------+------+----------+--------+--------------------+\n",
            "|arrivalAirportCandidatesCount|callsign|departureAirportCandidatesCount|estArrivalAirport|estArrivalAirportHorizDistance|estArrivalAirportVertDistance|estDepartureAirport|estDepartureAirportHorizDistance|estDepartureAirportVertDistance| firstSeen|icao24|  lastSeen|      dt|      dl_ts_captured|\n",
            "+-----------------------------+--------+-------------------------------+-----------------+------------------------------+-----------------------------+-------------------+--------------------------------+-------------------------------+----------+------+----------+--------+--------------------+\n",
            "|                            4|GES061C |                              0|             EDDF|                           497|                           27|               LSZB|                             306|                             37|1630249010|346603|1630251724|20210829|2023-03-12 11:27:...|\n",
            "|                            6|MMD7521 |                              0|             EDDS|                           842|                           53|               LSZB|                             413|                             45|1630235921|3c7043|1630238429|20210829|2023-03-12 11:27:...|\n",
            "|                            0|IJM339  |                              0|             null|                          null|                         null|               LSZB|                              36|                             37|1630249296|44046b|1630252492|20210829|2023-03-12 11:27:...|\n",
            "|                            0|NJE750D |                              0|             null|                          null|                         null|               LSZB|                             573|                             37|1630231817|494108|1630235904|20210829|2023-03-12 11:27:...|\n",
            "|                            3|HBFWA   |                              0|             EDNY|                           908|                           20|               LSZB|                               4|                             30|1630307631|4b0f70|1630310771|20210830|2023-03-12 11:27:...|\n",
            "|                            7|SAZ64   |                              0|             LSZH|                          1515|                           35|               LSZB|                             653|                             45|1630243591|4b1a01|1630244927|20210829|2023-03-12 11:27:...|\n",
            "|                            4|HBKGO   |                              0|             LSGE|                           275|                           43|               LSZB|                             339|                             37|1630226862|4b1b12|1630227725|20210829|2023-03-12 11:27:...|\n",
            "|                            4|HBSHL   |                              0|             LKER|                          8013|                         1654|               LSZB|                             556|                             53|1630221012|4b3049|1630228709|20210829|2023-03-12 11:27:...|\n",
            "|                            5|RGA03   |                              0|             LSGC|                         10841|                          185|               LSZB|                            6773|                             91|1630255200|4b43ab|1630255874|20210829|2023-03-12 11:27:...|\n",
            "|                            3|HBZWF   |                              0|             LSZB|                           611|                           53|               LSZB|                             606|                             45|1630224166|4b4445|1630226748|20210829|2023-03-12 11:27:...|\n",
            "|                            3|HBZWF   |                              0|             LSZB|                           610|                           37|               LSZB|                             606|                             45|1630306036|4b4445|1630309589|20210830|2023-03-12 11:27:...|\n",
            "|                            3|HB1766  |                              0|             LSZB|                           710|                           37|               LSZB|                             792|                             37|1630240811|4b4b8d|1630242615|20210829|2023-03-12 11:27:...|\n",
            "|                            0|JFA36L  |                              0|             null|                          null|                         null|               LSZB|                              16|                             30|1630220828|4d02d7|1630222929|20210829|2023-03-12 11:27:...|\n",
            "|                            3|TVQ6824 |                              0|             LZIB|                          1316|                            3|               LSZB|                              69|                             37|1630268651|49d283|1630273263|20210829|2023-03-12 11:27:...|\n",
            "|                            1|OAW24H  |                              0|             LEPA|                          3857|                           98|               LSZB|                             826|                             37|1630239018|4b028f|1630244264|20210829|2023-03-12 11:27:...|\n",
            "|                            4|HBKGP   |                              0|             LSGE|                           273|                           43|               LSZB|                             517|                             37|1630240202|4b1b13|1630243056|20210829|2023-03-12 11:27:...|\n",
            "|                            3|HBLVB   |                              0|             LSZB|                           454|                           37|               LSZB|                             657|                             37|1630304386|4b1f2f|1630309108|20210830|2023-03-12 11:27:...|\n",
            "|                            4|HBQVP   |                              0|             LSZB|                         13648|                          122|               LSZB|                            5322|                             15|1630300258|4b2c71|1630306407|20210830|2023-03-12 11:27:...|\n",
            "|                            5|RGA03   |                              0|             LSTZ|                          8935|                         1183|               LSZB|                             758|                              7|1630305843|4b43ab|1630306479|20210830|2023-03-12 11:27:...|\n",
            "|                            2|HBZWC   |                              0|             LSZW|                          9523|                          537|               LSZB|                             606|                             53|1630220322|4b4442|1630223018|20210829|2023-03-12 11:27:...|\n",
            "+-----------------------------+--------+-------------------------------+-----------------+------------------------------+-----------------------------+-------------------+--------------------------------+-------------------------------+----------+------+----------+--------+--------------------+\n",
            "only showing top 20 rows\n",
            "\n"
          ],
          "output_type" : "stream"
        }
      ]
    },
    {
      "cell_type" : "code",
      "execution_count" : 12,
      "metadata" : {
        "cell.metadata.exec_info" : {
          "startTs" : 1678658039267,
          "endTs" : 1678658041396
        },
        "language" : "scala"
      },
      "language" : "scala",
      "source" : [
        "//data.intAirports.dataObject.dropTable"
      ],
      "outputs" : [
      ]
    },
    {
      "cell_type" : "code",
      "execution_count" : 13,
      "metadata" : {
        "cell.metadata.exec_info" : {
          "startTs" : 1641672290961,
          "endTs" : 1641672318479
        },
        "language" : "scala"
      },
      "language" : "scala",
      "source" : [
      ],
      "outputs" : [
      ]
    }
  ]
}