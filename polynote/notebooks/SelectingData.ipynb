{
  "metadata" : {
    "config" : {
      "dependencies" : {
        
      },
      "exclusions" : [
      ],
      "repositories" : [
        {
          "maven" : {
            "base" : "https://oss.sonatype.org/content/repositories/snapshots/"
          }
        }
      ],
      "sparkConfig" : {
        "spark.master" : "local[*]",
        "spark.databricks.delta.snapshotPartitions" : "2"
      },
      "env" : {
        
      }
    },
    "language_info" : {
      "name" : "scala"
    }
  },
  "nbformat" : 4,
  "nbformat_minor" : 0,
  "cells" : [
    {
      "cell_type" : "markdown",
      "execution_count" : 0,
      "metadata" : {
        "language" : "text"
      },
      "language" : "text",
      "source" : [
        "## Show tables with Scala and Spark\n",
        "\n"
      ],
      "outputs" : [
      ]
    },
    {
      "cell_type" : "code",
      "execution_count" : 1,
      "metadata" : {
        "cell.metadata.exec_info" : {
          "startTs" : 1638776046090,
          "endTs" : 1638776049103
        },
        "language" : "scala"
      },
      "language" : "scala",
      "source" : [
        "spark.catalog.listTables.show(false)"
      ],
      "outputs" : [
        {
          "name" : "stdout",
          "text" : [
            "+--------------------------------+--------+-----------+---------+-----------+\n",
            "|name                            |database|description|tableType|isTemporary|\n",
            "+--------------------------------+--------+-----------+---------+-----------+\n",
            "|btl_departures_arrivals_airports|default |null       |EXTERNAL |false      |\n",
            "|int_airports                    |default |null       |EXTERNAL |false      |\n",
            "|int_departures                  |default |null       |EXTERNAL |false      |\n",
            "+--------------------------------+--------+-----------+---------+-----------+\n",
            "\n"
          ],
          "output_type" : "stream"
        }
      ]
    },
    {
      "cell_type" : "markdown",
      "execution_count" : 3,
      "metadata" : {
        "language" : "text"
      },
      "language" : "text",
      "source" : [
        "## Use SQL\n",
        "\n",
        "<div>To display result you need to click on the table symbol after \"Out: DataFrame\", then execute the new inspection cell...</div><div>For me this is a little bit troublesome in the current Polynote version. I like more using Spark DataFrame's show statement.</div>"
      ],
      "outputs" : [
      ]
    },
    {
      "cell_type" : "code",
      "execution_count" : 4,
      "metadata" : {
        "cell.metadata.exec_info" : {
          "startTs" : 1638340236150,
          "endTs" : 1638340236656
        },
        "language" : "sql"
      },
      "language" : "sql",
      "source" : [
        "select * from default.btl_distances where estarrivalairport = 'LEPA'"
      ],
      "outputs" : [
        {
          "execution_count" : 4,
          "data" : {
            "text/plain" : [
              "[estdepartureairport: string, estarrivalairport: string ... 8 more fields]"
            ]
          },
          "metadata" : {
            "name" : "Out",
            "type" : "DataFrame"
          },
          "output_type" : "execute_result"
        }
      ]
    },
    {
      "cell_type" : "code",
      "execution_count" : 6,
      "metadata" : {
        "cell.metadata.exec_info" : {
          "startTs" : 1638340259182,
          "endTs" : 1638340261803
        },
        "language" : "scala"
      },
      "language" : "scala",
      "source" : [
        "spark.sql(\"select * from default.btl_distances where estarrivalairport = 'LEPA'\").show"
      ],
      "outputs" : [
        {
          "name" : "stdout",
          "text" : [
            "+-------------------+-----------------+--------------------+----------------+-----------------+-----------------+----------------+-----------------+----------------+---------------------+\n",
            "|estdepartureairport|estarrivalairport|            arr_name|arr_latitude_deg|arr_longitude_deg|         dep_name|dep_latitude_deg|dep_longitude_deg|        distance|could_be_done_by_rail|\n",
            "+-------------------+-----------------+--------------------+----------------+-----------------+-----------------+----------------+-----------------+----------------+---------------------+\n",
            "|               LSZB|             LEPA|Palma De Mallorca...|    39.551700592|    2.73881006241|Bern Belp Airport|    46.914100647|7.497149944309999|904.446224553409|                false|\n",
            "+-------------------+-----------------+--------------------+----------------+-----------------+-----------------+----------------+-----------------+----------------+---------------------+\n",
            "\n"
          ],
          "output_type" : "stream"
        }
      ]
    },
    {
      "cell_type" : "code",
      "execution_count" : 15,
      "metadata" : {
        "language" : "scala"
      },
      "language" : "scala",
      "source" : [
        "spark.table(\"default.int_departures\").where($\"estarrivalairport\"===\"LEPA\").show"
      ],
      "outputs" : [
      ]
    },
    {
      "cell_type" : "markdown",
      "execution_count" : 7,
      "metadata" : {
        "language" : "text"
      },
      "language" : "text",
      "source" : [
        "## Select data by using DataObjects configured in SmartDataLake\n",
        "\n"
      ],
      "outputs" : [
      ]
    },
    {
      "cell_type" : "code",
      "execution_count" : 8,
      "metadata" : {
        "cell.metadata.exec_info" : {
          "startTs" : 1638627421458,
          "endTs" : 1638627421930
        },
        "language" : "scala"
      },
      "language" : "scala",
      "source" : [
        "// import smartdatalake\r\n",
        "import io.smartdatalake.config.SdlConfigObject.stringToDataObjectId\r\n",
        "import io.smartdatalake.config.ConfigToolbox\r\n",
        "import io.smartdatalake.workflow.dataobject._\r\n",
        "import io.smartdatalake.workflow.ActionPipelineContext\r\n",
        "import io.smartdatalake.workflow.action.SDLExecutionId\r\n",
        "import io.smartdatalake.app.SmartDataLakeBuilderConfig\r\n",
        "import io.smartdatalake.workflow.ExecutionPhase\r\n",
        "implicit val ss = spark // make Spark session available implicitly"
      ],
      "outputs" : [
      ]
    },
    {
      "cell_type" : "code",
      "execution_count" : 9,
      "metadata" : {
        "cell.metadata.exec_info" : {
          "startTs" : 1638627424121,
          "endTs" : 1638627431200
        },
        "language" : "scala"
      },
      "language" : "scala",
      "source" : [
        "// read config from mounted directory\r\n",
        "val (registry, globalConfig) = ConfigToolbox.loadAndParseConfig(Seq(\"/mnt/config\"))\r\n",
        "// Create the context used by SDL objects\r\n",
        "implicit val context = ActionPipelineContext(\"test\", \"app\", SDLExecutionId.executionId1, registry, appConfig = SmartDataLakeBuilderConfig(\"test\", Some(\"app\")), phase = ExecutionPhase.Init)"
      ],
      "outputs" : [
      ]
    },
    {
      "cell_type" : "code",
      "execution_count" : 10,
      "metadata" : {
        "cell.metadata.exec_info" : {
          "startTs" : 1638627449785,
          "endTs" : 1638627453657
        },
        "language" : "scala"
      },
      "language" : "scala",
      "source" : [
        "// get a dataobject\r\n",
        "val dataIntAirports = registry.get[DeltaLakeTableDataObject](\"int-airports\")\r\n",
        "val dataIntDepartures = registry.get[DeltaLakeTableDataObject](\"int-departures\")"
      ],
      "outputs" : [
      ]
    },
    {
      "cell_type" : "code",
      "execution_count" : 11,
      "metadata" : {
        "cell.metadata.exec_info" : {
          "startTs" : 1638736796269,
          "endTs" : 1638736802818
        },
        "language" : "scala"
      },
      "language" : "scala",
      "source" : [
        "//dataIntAirports.dropTable"
      ],
      "outputs" : [
      ]
    },
    {
      "cell_type" : "code",
      "execution_count" : 12,
      "metadata" : {
        "cell.metadata.exec_info" : {
          "startTs" : 1638714078527,
          "endTs" : 1638714084453
        },
        "language" : "scala"
      },
      "language" : "scala",
      "source" : [
        "dataIntDepartures.getDataFrame().show"
      ],
      "outputs" : [
        {
          "name" : "stdout",
          "text" : [
            "+------+-------------------+--------+-----+\n",
            "|icao24|estdepartureairport|      dt|count|\n",
            "+------+-------------------+--------+-----+\n",
            "|4b4442|               LSZB|20210829|    1|\n",
            "|4b4449|               LSZB|20210829|    1|\n",
            "|4d02d7|               LSZB|20210829|    1|\n",
            "|4b1a01|               LSZB|20210829|    1|\n",
            "|4b43ab|               LSZB|20210830|    1|\n",
            "|346603|               LSZB|20210829|    1|\n",
            "|4b1b13|               LSZB|20210829|    1|\n",
            "|4b43ab|               LSZB|20210829|    1|\n",
            "|494108|               LSZB|20210829|    1|\n",
            "|49d283|               LSZB|20210829|    1|\n",
            "|4b1b12|               LSZB|20210829|    1|\n",
            "|4b0f70|               LSZB|20210830|    1|\n",
            "|4b1f2f|               LSZB|20210830|    1|\n",
            "|4b4445|               LSZB|20210830|    1|\n",
            "|aa0da1|               LSZB|20210829|    1|\n",
            "|4b3049|               LSZB|20210829|    1|\n",
            "|4b51fa|               LSZB|20210829|    1|\n",
            "|4b2c71|               LSZB|20210830|    1|\n",
            "|4b4b8d|               LSZB|20210829|    1|\n",
            "|44046b|               LSZB|20210829|    1|\n",
            "+------+-------------------+--------+-----+\n",
            "only showing top 20 rows\n",
            "\n"
          ],
          "output_type" : "stream"
        }
      ]
    }
  ]
}