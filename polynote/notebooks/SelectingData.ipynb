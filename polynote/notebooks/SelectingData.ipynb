{
  "metadata" : {
    "config" : {
      "dependencies" : {
        
      },
      "exclusions" : [
      ],
      "repositories" : [
        {
          "maven" : {
            "base" : "https://oss.sonatype.org/content/repositories/snapshots/"
          }
        }
      ],
      "sparkConfig" : {
        "spark.master" : "local[*]"
      },
      "env" : {
        
      }
    },
    "language_info" : {
      "name" : "scala"
    }
  },
  "nbformat" : 4,
  "nbformat_minor" : 0,
  "cells" : [
    {
      "cell_type" : "markdown",
      "execution_count" : 10,
      "metadata" : {
        "language" : "text"
      },
      "language" : "text",
      "source" : [
        "## Show tables with Scala and Spark\n",
        "\n"
      ],
      "outputs" : [
      ]
    },
    {
      "cell_type" : "code",
      "execution_count" : 3,
      "metadata" : {
        "cell.metadata.exec_info" : {
          "startTs" : 1638339561140,
          "endTs" : 1638339575973
        },
        "language" : "scala"
      },
      "language" : "scala",
      "source" : [
        "spark.catalog.listTables.show(false)"
      ],
      "outputs" : [
        {
          "name" : "stdout",
          "text" : [
            "+--------------------------------+--------+-----------+---------+-----------+\n",
            "|name                            |database|description|tableType|isTemporary|\n",
            "+--------------------------------+--------+-----------+---------+-----------+\n",
            "|btl_departures_arrivals_airports|default |null       |EXTERNAL |false      |\n",
            "|btl_distances                   |default |null       |EXTERNAL |false      |\n",
            "|int_airports                    |default |null       |EXTERNAL |false      |\n",
            "+--------------------------------+--------+-----------+---------+-----------+\n",
            "\n"
          ],
          "output_type" : "stream"
        }
      ]
    },
    {
      "cell_type" : "code",
      "execution_count" : 4,
      "metadata" : {
        "cell.metadata.exec_info" : {
          "startTs" : 1638339629446,
          "endTs" : 1638339652296
        },
        "language" : "scala"
      },
      "language" : "scala",
      "source" : [
        "spark.table(\"default.btl_distances\").show"
      ],
      "outputs" : [
        {
          "name" : "stdout",
          "text" : [
            "+-------------------+-----------------+--------------------+------------------+------------------+-----------------+----------------+-----------------+------------------+---------------------+\n",
            "|estdepartureairport|estarrivalairport|            arr_name|  arr_latitude_deg| arr_longitude_deg|         dep_name|dep_latitude_deg|dep_longitude_deg|          distance|could_be_done_by_rail|\n",
            "+-------------------+-----------------+--------------------+------------------+------------------+-----------------+----------------+-----------------+------------------+---------------------+\n",
            "|               LSZB|             LEPA|Palma De Mallorca...|      39.551700592|     2.73881006241|Bern Belp Airport|    46.914100647|7.497149944309999|  904.446224553409|                false|\n",
            "|               LSZB|             LKER|    Erpužice Airport|49.802799224853516|13.038100242614746|Bern Belp Airport|    46.914100647|7.497149944309999| 520.1315237975622|                false|\n",
            "|               LSZB|             LSGC|Les Eplatures Air...|47.083900451699996| 6.792840003970001|Bern Belp Airport|    46.914100647|7.497149944309999| 56.65085347361135|                 true|\n",
            "|               LSZB|             LSGE|  Ecuvillens Airport|         46.755001|           7.07611|Bern Belp Airport|    46.914100647|7.497149944309999| 36.58926668294866|                 true|\n",
            "|               LSZB|             LSGE|  Ecuvillens Airport|         46.755001|           7.07611|Bern Belp Airport|    46.914100647|7.497149944309999| 36.58926668294866|                 true|\n",
            "|               LSZB|             LSTZ|Flugplatz Zweisimmen|         46.552502|           7.38056|Bern Belp Airport|    46.914100647|7.497149944309999|41.178039123614354|                 true|\n",
            "|               LSZB|             LSZB|   Bern Belp Airport|      46.914100647| 7.497149944309999|Bern Belp Airport|    46.914100647|7.497149944309999|               0.0|                 true|\n",
            "|               LSZB|             LSZB|   Bern Belp Airport|      46.914100647| 7.497149944309999|Bern Belp Airport|    46.914100647|7.497149944309999|               0.0|                 true|\n",
            "|               LSZB|             LSZB|   Bern Belp Airport|      46.914100647| 7.497149944309999|Bern Belp Airport|    46.914100647|7.497149944309999|               0.0|                 true|\n",
            "|               LSZB|             LSZB|   Bern Belp Airport|      46.914100647| 7.497149944309999|Bern Belp Airport|    46.914100647|7.497149944309999|               0.0|                 true|\n",
            "|               LSZB|             LSZB|   Bern Belp Airport|      46.914100647| 7.497149944309999|Bern Belp Airport|    46.914100647|7.497149944309999|               0.0|                 true|\n",
            "|               LSZB|             LSZB|   Bern Belp Airport|      46.914100647| 7.497149944309999|Bern Belp Airport|    46.914100647|7.497149944309999|               0.0|                 true|\n",
            "|               LSZB|             LSZB|   Bern Belp Airport|      46.914100647| 7.497149944309999|Bern Belp Airport|    46.914100647|7.497149944309999|               0.0|                 true|\n",
            "|               LSZB|             LSZB|   Bern Belp Airport|      46.914100647| 7.497149944309999|Bern Belp Airport|    46.914100647|7.497149944309999|               0.0|                 true|\n",
            "|               LSZB|             LSZB|   Bern Belp Airport|      46.914100647| 7.497149944309999|Bern Belp Airport|    46.914100647|7.497149944309999|               0.0|                 true|\n",
            "|               LSZB|             LSZB|   Bern Belp Airport|      46.914100647| 7.497149944309999|Bern Belp Airport|    46.914100647|7.497149944309999|               0.0|                 true|\n",
            "|               LSZB|             LSZB|   Bern Belp Airport|      46.914100647| 7.497149944309999|Bern Belp Airport|    46.914100647|7.497149944309999|               0.0|                 true|\n",
            "|               LSZB|             LSZB|   Bern Belp Airport|      46.914100647| 7.497149944309999|Bern Belp Airport|    46.914100647|7.497149944309999|               0.0|                 true|\n",
            "|               LSZB|             LSZG|    Grenchen Airport|         47.181599|           7.41719|Bern Belp Airport|    46.914100647|7.497149944309999| 30.35515950896725|                 true|\n",
            "|               LSZB|             LSZH|      Zürich Airport|         47.458056|          8.548056|Bern Belp Airport|    46.914100647|7.497149944309999| 99.82601283210911|                 true|\n",
            "+-------------------+-----------------+--------------------+------------------+------------------+-----------------+----------------+-----------------+------------------+---------------------+\n",
            "only showing top 20 rows\n",
            "\n"
          ],
          "output_type" : "stream"
        }
      ]
    },
    {
      "cell_type" : "markdown",
      "execution_count" : 9,
      "metadata" : {
        "language" : "text"
      },
      "language" : "text",
      "source" : [
        "## Use SQL\n",
        "\n",
        "<div>To display result you need to click on the table symbol after \"Out: DataFrame\", then execute the new inspection cell...</div><div>For me this is a little bit troublesome in the current Polynote version. I like more using Spark DataFrame's show statement.</div>"
      ],
      "outputs" : [
      ]
    },
    {
      "cell_type" : "code",
      "execution_count" : 11,
      "metadata" : {
        "cell.metadata.exec_info" : {
          "startTs" : 1638340236150,
          "endTs" : 1638340236656
        },
        "language" : "sql"
      },
      "language" : "sql",
      "source" : [
        "select * from default.btl_distances where estarrivalairport = 'LEPA'"
      ],
      "outputs" : [
        {
          "execution_count" : 11,
          "data" : {
            "text/plain" : [
              "[estdepartureairport: string, estarrivalairport: string ... 8 more fields]"
            ]
          },
          "metadata" : {
            "name" : "Out",
            "type" : "DataFrame"
          },
          "output_type" : "execute_result"
        }
      ]
    },
    {
      "cell_type" : "code",
      "execution_count" : 12,
      "metadata" : {
        "language" : "viz"
      },
      "language" : "viz",
      "source" : [
        "{\"type\":\"table\",\"value\":\"Out\",\"rowRange\":[0,0]}"
      ],
      "outputs" : [
        {
          "data" : {
            "text/html" : [
              "<div class=\"table-view\"><table class=\"\"><thead class=\"\"><tr class=\"\"><th class=\"estdepartureairport\">estdepartureairport: string?</th><th class=\"estarrivalairport\">estarrivalairport: string?</th><th class=\"arr_name\">arr_name: string?</th><th class=\"arr_latitude_deg\">arr_latitude_deg: string?</th><th class=\"arr_longitude_deg\">arr_longitude_deg: string?</th><th class=\"dep_name\">dep_name: string?</th><th class=\"dep_latitude_deg\">dep_latitude_deg: string?</th><th class=\"dep_longitude_deg\">dep_longitude_deg: string?</th><th class=\"distance\">distance: float8?</th><th class=\"could_be_done_by_rail\">could_be_done_by_rail: boolean?</th></tr></thead><tbody class=\"\"><tr class=\"\"><td class=\"estdepartureairport\"><span class=\"\" title=\"LSZB\">LSZB</span></td><td class=\"estarrivalairport\"><span class=\"\" title=\"LEPA\">LEPA</span></td><td class=\"arr_name\"><span class=\"\" title=\"Palma De Mallorca Airport\">Palma De Mallorca Airport</span></td><td class=\"arr_latitude_deg\"><span class=\"\" title=\"39.551700592\">39.551700592</span></td><td class=\"arr_longitude_deg\"><span class=\"\" title=\"2.73881006241\">2.73881006241</span></td><td class=\"dep_name\"><span class=\"\" title=\"Bern Belp Airport\">Bern Belp Airport</span></td><td class=\"dep_latitude_deg\"><span class=\"\" title=\"46.914100647\">46.914100647</span></td><td class=\"dep_longitude_deg\"><span class=\"\" title=\"7.497149944309999\">7.497149944309999</span></td><td class=\"distance\"><span class=\"\" title=\"904.446224553409\">904.446224553409</span></td><td class=\"could_be_done_by_rail\"><span class=\"\" title=\"false\">false</span></td></tr></tbody></table></div>"
            ]
          },
          "output_type" : "display_data"
        }
      ]
    },
    {
      "cell_type" : "code",
      "execution_count" : 13,
      "metadata" : {
        "cell.metadata.exec_info" : {
          "startTs" : 1638340259182,
          "endTs" : 1638340261803
        },
        "language" : "scala"
      },
      "language" : "scala",
      "source" : [
        "spark.sql(\"select * from default.btl_distances where estarrivalairport = 'LEPA'\").show"
      ],
      "outputs" : [
        {
          "name" : "stdout",
          "text" : [
            "+-------------------+-----------------+--------------------+----------------+-----------------+-----------------+----------------+-----------------+----------------+---------------------+\n",
            "|estdepartureairport|estarrivalairport|            arr_name|arr_latitude_deg|arr_longitude_deg|         dep_name|dep_latitude_deg|dep_longitude_deg|        distance|could_be_done_by_rail|\n",
            "+-------------------+-----------------+--------------------+----------------+-----------------+-----------------+----------------+-----------------+----------------+---------------------+\n",
            "|               LSZB|             LEPA|Palma De Mallorca...|    39.551700592|    2.73881006241|Bern Belp Airport|    46.914100647|7.497149944309999|904.446224553409|                false|\n",
            "+-------------------+-----------------+--------------------+----------------+-----------------+-----------------+----------------+-----------------+----------------+---------------------+\n",
            "\n"
          ],
          "output_type" : "stream"
        }
      ]
    },
    {
      "cell_type" : "markdown",
      "execution_count" : 14,
      "metadata" : {
        "language" : "text"
      },
      "language" : "text",
      "source" : [
        "## Select data by using DataObjects configured in SmartDataLake\n",
        "\n"
      ],
      "outputs" : [
      ]
    },
    {
      "cell_type" : "code",
      "execution_count" : 5,
      "metadata" : {
        "cell.metadata.exec_info" : {
          "startTs" : 1638340507146,
          "endTs" : 1638340507505
        },
        "language" : "scala"
      },
      "language" : "scala",
      "source" : [
        "// import smartdatalake\r\n",
        "import io.smartdatalake.config.SdlConfigObject.stringToDataObjectId\r\n",
        "import io.smartdatalake.config.ConfigToolbox\r\n",
        "import io.smartdatalake.workflow.dataobject._\r\n",
        "import io.smartdatalake.workflow.ActionPipelineContext\r\n",
        "import io.smartdatalake.workflow.action.SDLExecutionId\r\n",
        "import io.smartdatalake.app.SmartDataLakeBuilderConfig\r\n",
        "import io.smartdatalake.workflow.ExecutionPhase\r\n",
        "implicit val ss = spark // make Spark session available implicitly"
      ],
      "outputs" : [
      ]
    },
    {
      "cell_type" : "code",
      "execution_count" : 6,
      "metadata" : {
        "cell.metadata.exec_info" : {
          "startTs" : 1638340549202,
          "endTs" : 1638340553218
        },
        "language" : "scala"
      },
      "language" : "scala",
      "source" : [
        "// read config from mounted directory\r\n",
        "val (registry, globalConfig) = ConfigToolbox.loadAndParseConfig(Seq(\"/mnt/config\"))\r\n",
        "// Create the context used by SDL objects\r\n",
        "implicit val context = ActionPipelineContext(\"test\", \"app\", SDLExecutionId.executionId1, registry, appConfig = SmartDataLakeBuilderConfig(\"test\", Some(\"app\")), phase = ExecutionPhase.Init)"
      ],
      "outputs" : [
      ]
    },
    {
      "cell_type" : "code",
      "execution_count" : 7,
      "metadata" : {
        "cell.metadata.exec_info" : {
          "startTs" : 1638340575048,
          "endTs" : 1638340576288
        },
        "language" : "scala"
      },
      "language" : "scala",
      "source" : [
        "// get a dataobject\r\n",
        "val dataIntAirports = registry.get[DeltaLakeTableDataObject](\"int-airports\")"
      ],
      "outputs" : [
      ]
    },
    {
      "cell_type" : "code",
      "execution_count" : 8,
      "metadata" : {
        "cell.metadata.exec_info" : {
          "startTs" : 1638340614989,
          "endTs" : 1638340617392
        },
        "language" : "scala"
      },
      "language" : "scala",
      "source" : [
        "dataIntAirports.getDataFrame()\r\n",
        ".where($\"ident\"===\"LEPA\")\r\n",
        ".show"
      ],
      "outputs" : [
        {
          "name" : "stdout",
          "text" : [
            "+-----+--------------------+------------+-------------+\n",
            "|ident|                name|latitude_deg|longitude_deg|\n",
            "+-----+--------------------+------------+-------------+\n",
            "| LEPA|Palma De Mallorca...|39.551700592|2.73881006241|\n",
            "+-----+--------------------+------------+-------------+\n",
            "\n"
          ],
          "output_type" : "stream"
        }
      ]
    }
  ]
}