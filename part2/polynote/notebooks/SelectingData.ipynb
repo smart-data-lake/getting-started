{
  "metadata" : {
    "config" : {
      "dependencies" : {
        "scala" : [
          "file:///mnt/lib/getting-started-1.0.jar"
        ]
      },
      "exclusions" : [
      ],
      "repositories" : [
        {
          "maven" : {
            "base" : "https://oss.sonatype.org/content/repositories/snapshots/"
          }
        }
      ],
      "sparkConfig" : {
        "spark.master" : "local[*]",
        "spark.databricks.delta.snapshotPartitions" : "2"
      },
      "env" : {
        
      }
    },
    "language_info" : {
      "name" : "scala"
    }
  },
  "nbformat" : 4,
  "nbformat_minor" : 0,
  "cells" : [
    {
      "cell_type" : "markdown",
      "execution_count" : 0,
      "metadata" : {
        "language" : "text"
      },
      "language" : "text",
      "source" : [
        "## Show tables with Scala and Spark\n",
        "\n"
      ],
      "outputs" : [
      ]
    },
    {
      "cell_type" : "code",
      "execution_count" : 1,
      "metadata" : {
        "cell.metadata.exec_info" : {
          "startTs" : 1641666983902,
          "endTs" : 1641667008548
        },
        "language" : "scala"
      },
      "language" : "scala",
      "source" : [
        "spark.catalog.listTables.show(false)"
      ],
      "outputs" : [
        {
          "name" : "stdout",
          "text" : [
            "+--------------------------------+--------+-----------+---------+-----------+\n",
            "|name                            |database|description|tableType|isTemporary|\n",
            "+--------------------------------+--------+-----------+---------+-----------+\n",
            "|btl_departures_arrivals_airports|default |null       |EXTERNAL |false      |\n",
            "|btl_distances                   |default |null       |EXTERNAL |false      |\n",
            "|int_airports                    |default |null       |EXTERNAL |false      |\n",
            "|int_departures                  |default |null       |EXTERNAL |false      |\n",
            "+--------------------------------+--------+-----------+---------+-----------+\n",
            "\n"
          ],
          "output_type" : "stream"
        }
      ]
    },
    {
      "cell_type" : "markdown",
      "execution_count" : 2,
      "metadata" : {
        "language" : "text"
      },
      "language" : "text",
      "source" : [
        "## Use SQL\n",
        "\n",
        "<div>To display result you need to click on the table symbol after \"Out: DataFrame\", then execute the new inspection cell...</div><div>For me this is a little bit troublesome in the current Polynote version. I like more using Spark DataFrame's show statement.</div>"
      ],
      "outputs" : [
      ]
    },
    {
      "cell_type" : "code",
      "execution_count" : 3,
      "metadata" : {
        "cell.metadata.exec_info" : {
          "startTs" : 1641587558084,
          "endTs" : 1641587571708
        },
        "language" : "sql"
      },
      "language" : "sql",
      "source" : [
        "select * from default.btl_distances where estarrivalairport = 'LEPA'"
      ],
      "outputs" : [
        {
          "execution_count" : 3,
          "data" : {
            "text/plain" : [
              "[estdepartureairport: string, estarrivalairport: string ... 8 more fields]"
            ]
          },
          "metadata" : {
            "name" : "Out",
            "type" : "DataFrame"
          },
          "output_type" : "execute_result"
        }
      ]
    },
    {
      "cell_type" : "code",
      "execution_count" : 4,
      "metadata" : {
        "cell.metadata.exec_info" : {
          "startTs" : 1641587602831,
          "endTs" : 1641587607072
        },
        "language" : "scala"
      },
      "language" : "scala",
      "source" : [
        "spark.sql(\"select * from default.btl_distances where estarrivalairport = 'LEPA'\").show"
      ],
      "outputs" : [
        {
          "name" : "stdout",
          "text" : [
            "+-------------------+-----------------+--------------------+----------------+-----------------+-----------------+----------------+-----------------+----------------+---------------------+\n",
            "|estdepartureairport|estarrivalairport|            arr_name|arr_latitude_deg|arr_longitude_deg|         dep_name|dep_latitude_deg|dep_longitude_deg|        distance|could_be_done_by_rail|\n",
            "+-------------------+-----------------+--------------------+----------------+-----------------+-----------------+----------------+-----------------+----------------+---------------------+\n",
            "|               LSZB|             LEPA|Palma De Mallorca...|    39.551700592|    2.73881006241|Bern Belp Airport|    46.914100647|7.497149944309999|904.446224553409|                false|\n",
            "+-------------------+-----------------+--------------------+----------------+-----------------+-----------------+----------------+-----------------+----------------+---------------------+\n",
            "\n"
          ],
          "output_type" : "stream"
        }
      ]
    },
    {
      "cell_type" : "code",
      "execution_count" : 5,
      "metadata" : {
        "cell.metadata.exec_info" : {
          "startTs" : 1641587609410,
          "endTs" : 1641587616387
        },
        "language" : "scala"
      },
      "language" : "scala",
      "source" : [
        "spark.table(\"default.int_departures\").where($\"estarrivalairport\"===\"LEPA\").show"
      ],
      "outputs" : [
        {
          "name" : "stdout",
          "text" : [
            "+-----------------------------+--------+-------------------------------+-----------------+------------------------------+-----------------------------+-------------------+--------------------------------+-------------------------------+----------+------+----------+--------+--------------------+\n",
            "|arrivalairportcandidatescount|callsign|departureairportcandidatescount|estarrivalairport|estarrivalairporthorizdistance|estarrivalairportvertdistance|estdepartureairport|estdepartureairporthorizdistance|estdepartureairportvertdistance| firstseen|icao24|  lastseen|      dt|      dl_ts_captured|\n",
            "+-----------------------------+--------+-------------------------------+-----------------+------------------------------+-----------------------------+-------------------+--------------------------------+-------------------------------+----------+------+----------+--------+--------------------+\n",
            "|                            1|OAW24H  |                              0|             LEPA|                          3857|                           98|               LSZB|                             826|                             37|1630239018|4b028f|1630244264|20210829|2021-12-05 14:17:...|\n",
            "+-----------------------------+--------+-------------------------------+-----------------+------------------------------+-----------------------------+-------------------+--------------------------------+-------------------------------+----------+------+----------+--------+--------------------+\n",
            "\n"
          ],
          "output_type" : "stream"
        }
      ]
    },
    {
      "cell_type" : "markdown",
      "execution_count" : 6,
      "metadata" : {
        "language" : "text"
      },
      "language" : "text",
      "source" : [
        "## Select data by using DataObjects configured in SmartDataLake\n",
        "\n"
      ],
      "outputs" : [
      ]
    },
    {
      "cell_type" : "code",
      "execution_count" : 7,
      "metadata" : {
        "cell.metadata.exec_info" : {
          "startTs" : 1641672264772,
          "endTs" : 1641672272134
        },
        "language" : "scala"
      },
      "language" : "scala",
      "source" : [
        "// import smartdatalake\r\n",
        "import io.smartdatalake.config.SdlConfigObject.stringToDataObjectId\r\n",
        "import io.smartdatalake.config.ConfigToolbox\r\n",
        "import io.smartdatalake.workflow.dataobject._\r\n",
        "import io.smartdatalake.workflow.ActionPipelineContext\r\n",
        "import io.smartdatalake.workflow.action.SDLExecutionId\r\n",
        "import io.smartdatalake.app.SmartDataLakeBuilderConfig\r\n",
        "import io.smartdatalake.workflow.ExecutionPhase\r\n",
        "implicit val ss = spark // make Spark session available implicitly"
      ],
      "outputs" : [
      ]
    },
    {
      "cell_type" : "code",
      "execution_count" : 8,
      "metadata" : {
        "cell.metadata.exec_info" : {
          "startTs" : 1641672272274,
          "endTs" : 1641672284802
        },
        "language" : "scala"
      },
      "language" : "scala",
      "source" : [
        "// read config from mounted directory\r\n",
        "val (registry, globalConfig) = ConfigToolbox.loadAndParseConfig(Seq(\"/mnt/config\"), Some(this.getClass.getClassLoader))\r\n",
        "// Create the context used by SDL objects\r\n",
        "implicit val context = ConfigToolbox.getDefaultActionPipelineContext(spark, registry)"
      ],
      "outputs" : [
      ]
    },
    {
      "cell_type" : "code",
      "execution_count" : 10,
      "metadata" : {
        "cell.metadata.exec_info" : {
          "startTs" : 1641672284815,
          "endTs" : 1641672290934
        },
        "language" : "scala"
      },
      "language" : "scala",
      "source" : [
        "// get a dataobject\r\n",
        "val dataIntAirports = registry.get[DeltaLakeTableDataObject](\"int-airports\")\r\n",
        "val dataIntDepartures = registry.get[DeltaLakeTableDataObject](\"int-departures\")"
      ],
      "outputs" : [
      ]
    },
    {
      "cell_type" : "code",
      "execution_count" : 11,
      "metadata" : {
        "cell.metadata.exec_info" : {
          "startTs" : 1641672290961,
          "endTs" : 1641672318479
        },
        "language" : "scala"
      },
      "language" : "scala",
      "source" : [
        "dataIntDepartures.dropTable"
      ],
      "outputs" : [
      ]
    },
    {
      "cell_type" : "code",
      "execution_count" : 12,
      "metadata" : {
        "cell.metadata.exec_info" : {
          "startTs" : 1641668016775,
          "endTs" : 1641668048043
        },
        "language" : "scala"
      },
      "language" : "scala",
      "source" : [
        "dataIntDepartures.getSparkDataFrame().show"
      ],
      "outputs" : [
        {
          "name" : "stdout",
          "text" : [
            "+-----------------------------+--------+-------------------------------+-----------------+------------------------------+-----------------------------+-------------------+--------------------------------+-------------------------------+----------+------+----------+--------+--------------------+\n",
            "|arrivalairportcandidatescount|callsign|departureairportcandidatescount|estarrivalairport|estarrivalairporthorizdistance|estarrivalairportvertdistance|estdepartureairport|estdepartureairporthorizdistance|estdepartureairportvertdistance| firstseen|icao24|  lastseen|      dt|      dl_ts_captured|\n",
            "+-----------------------------+--------+-------------------------------+-----------------+------------------------------+-----------------------------+-------------------+--------------------------------+-------------------------------+----------+------+----------+--------+--------------------+\n",
            "|                            4|GES061C |                              0|             EDDF|                           497|                           27|               LSZB|                             306|                             37|1630249010|346603|1630251724|20210829|2021-12-05 14:17:...|\n",
            "|                            5|RGA03   |                              0|             LSTZ|                          8935|                         1183|               LSZB|                             758|                              7|1630305843|4b43ab|1630306479|20210830|2021-12-05 14:17:...|\n",
            "|                            3|HBZWF   |                              0|             LSZB|                           610|                           37|               LSZB|                             606|                             45|1630306036|4b4445|1630309589|20210830|2021-12-05 14:17:...|\n",
            "|                            8|N747MC  |                              0|             EDRY|                          1898|                           72|               LSZB|                             931|                             30|1630252931|aa0da1|1630258016|20210829|2021-12-05 14:17:...|\n",
            "|                            3|HBZWF   |                              0|             LSZB|                           611|                           53|               LSZB|                             606|                             45|1630224166|4b4445|1630226748|20210829|2021-12-05 14:17:...|\n",
            "|                            2|HBZWC   |                              0|             LSZW|                          9523|                          537|               LSZB|                             606|                             53|1630220322|4b4442|1630223018|20210829|2021-12-05 14:17:...|\n",
            "|                            7|SAZ64   |                              0|             LSZH|                          1515|                           35|               LSZB|                             653|                             45|1630243591|4b1a01|1630244927|20210829|2021-12-05 14:17:...|\n",
            "|                            4|HBKGP   |                              0|             LSGE|                           273|                           43|               LSZB|                             517|                             37|1630240202|4b1b13|1630243056|20210829|2021-12-05 14:17:...|\n",
            "|                            3|HBZWJ   |                              0|             LSZB|                           658|                           37|               LSZB|                             574|                             45|1630227402|4b4449|1630229007|20210829|2021-12-05 14:17:...|\n",
            "|                            3|HBFWA   |                              0|             EDNY|                           908|                           20|               LSZB|                               4|                             30|1630307631|4b0f70|1630310771|20210830|2021-12-05 14:17:...|\n",
            "|                            5|RGA03   |                              0|             LSGC|                         10841|                          185|               LSZB|                            6773|                             91|1630255200|4b43ab|1630255874|20210829|2021-12-05 14:17:...|\n",
            "|                            3|TVQ6824 |                              0|             LZIB|                          1316|                            3|               LSZB|                              69|                             37|1630268651|49d283|1630273263|20210829|2021-12-05 14:17:...|\n",
            "|                            4|HBKGO   |                              0|             LSGE|                           275|                           43|               LSZB|                             339|                             37|1630226862|4b1b12|1630227725|20210829|2021-12-05 14:17:...|\n",
            "|                            4|HBSHL   |                              0|             LKER|                          8013|                         1654|               LSZB|                             556|                             53|1630221012|4b3049|1630228709|20210829|2021-12-05 14:17:...|\n",
            "|                            3|HBLVB   |                              0|             LSZB|                           454|                           37|               LSZB|                             657|                             37|1630304386|4b1f2f|1630309108|20210830|2021-12-05 14:17:...|\n",
            "|                            3|HB3411  |                              0|             LSZB|                           792|                           37|               LSZB|                             749|                             23|1630231269|4b51fa|1630234083|20210829|2021-12-05 14:17:...|\n",
            "|                            4|HBQVP   |                              0|             LSZB|                         13648|                          122|               LSZB|                            5322|                             15|1630300258|4b2c71|1630306407|20210830|2021-12-05 14:17:...|\n",
            "|                            6|MMD7521 |                              0|             EDDS|                           842|                           53|               LSZB|                             413|                             45|1630235921|3c7043|1630238429|20210829|2021-12-05 14:17:...|\n",
            "|                            3|HB1766  |                              0|             LSZB|                           710|                           37|               LSZB|                             792|                             37|1630240811|4b4b8d|1630242615|20210829|2021-12-05 14:17:...|\n",
            "|                            1|OAW24H  |                              0|             LEPA|                          3857|                           98|               LSZB|                             826|                             37|1630239018|4b028f|1630244264|20210829|2021-12-05 14:17:...|\n",
            "+-----------------------------+--------+-------------------------------+-----------------+------------------------------+-----------------------------+-------------------+--------------------------------+-------------------------------+----------+------+----------+--------+--------------------+\n",
            "only showing top 20 rows\n",
            "\n"
          ],
          "output_type" : "stream"
        }
      ]
    }
  ]
}
