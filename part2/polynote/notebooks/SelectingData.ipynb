{
  "metadata" : {
    "config" : {
      "dependencies" : {
        "scala" : [
          "file:///mnt/lib/getting-started-1.0.jar"
        ]
      },
      "exclusions" : [
      ],
      "repositories" : [
        {
          "maven" : {
            "base" : "https://oss.sonatype.org/content/repositories/snapshots/"
          }
        }
      ],
      "sparkConfig" : {
        "spark.master" : "local[*]",
        "spark.databricks.delta.snapshotPartitions" : "2"
      },
      "env" : {
        
      }
    },
    "language_info" : {
      "name" : "scala"
    }
  },
  "nbformat" : 4,
  "nbformat_minor" : 0,
  "cells" : [
    {
      "cell_type" : "markdown",
      "execution_count" : 0,
      "metadata" : {
        "language" : "text"
      },
      "language" : "text",
      "source" : [
        "## Show tables with Scala and Spark\n",
        "\n"
      ],
      "outputs" : [
      ]
    },
    {
      "cell_type" : "code",
      "execution_count" : 1,
      "metadata" : {
        "cell.metadata.exec_info" : {
          "startTs" : 1692017086502,
          "endTs" : 1692017087592
        },
        "language" : "scala"
      },
      "language" : "scala",
      "source" : [
        "spark.catalog.listTables.show(false)"
      ],
      "outputs" : [
        {
          "name" : "stdout",
          "text" : [
            "+--------------------------------+--------+-----------+---------+-----------+\n",
            "|name                            |database|description|tableType|isTemporary|\n",
            "+--------------------------------+--------+-----------+---------+-----------+\n",
            "|btl_departures_arrivals_airports|default |null       |EXTERNAL |false      |\n",
            "|btl_distances                   |default |null       |EXTERNAL |false      |\n",
            "|int_airports                    |default |null       |EXTERNAL |false      |\n",
            "|int_departures                  |default |null       |EXTERNAL |false      |\n",
            "+--------------------------------+--------+-----------+---------+-----------+\n",
            "\n"
          ],
          "output_type" : "stream"
        }
      ]
    },
    {
      "cell_type" : "code",
      "execution_count" : 3,
      "metadata" : {
        "cell.metadata.exec_info" : {
          "startTs" : 1692017130658,
          "endTs" : 1692017131516
        },
        "language" : "scala"
      },
      "language" : "scala",
      "source" : [
        "spark.sql(\"select * from default.btl_distances where estarrivalairport = 'EDDR'\").show"
      ],
      "outputs" : [
        {
          "name" : "stdout",
          "text" : [
            "+-------------------+-----------------+-------------------+------------------+-----------------+-----------------+----------------+-----------------+-----------------+---------------------+\n",
            "|estdepartureairport|estarrivalairport|           arr_name|  arr_latitude_deg|arr_longitude_deg|         dep_name|dep_latitude_deg|dep_longitude_deg|         distance|could_be_done_by_rail|\n",
            "+-------------------+-----------------+-------------------+------------------+-----------------+-----------------+----------------+-----------------+-----------------+---------------------+\n",
            "|               LSZB|             EDDR|Saarbrücken Airport|49.214599609400004|    7.10950994492|Bern-Belp Airport|       46.913419|         7.499747|257.5165792489347|                 true|\n",
            "+-------------------+-----------------+-------------------+------------------+-----------------+-----------------+----------------+-----------------+-----------------+---------------------+\n",
            "\n"
          ],
          "output_type" : "stream"
        }
      ]
    },
    {
      "cell_type" : "code",
      "execution_count" : 4,
      "metadata" : {
        "cell.metadata.exec_info" : {
          "startTs" : 1692017172165,
          "endTs" : 1692017173120
        },
        "language" : "scala"
      },
      "language" : "scala",
      "source" : [
        "spark.table(\"default.int_departures\").where($\"estarrivalairport\"===\"LIMC\").show"
      ],
      "outputs" : [
        {
          "name" : "stdout",
          "text" : [
            "+-----------------------------+--------+-------------------------------+-----------------+------------------------------+-----------------------------+-------------------+--------------------------------+-------------------------------+----------+------+----------+--------+--------------------+\n",
            "|arrivalAirportCandidatesCount|callsign|departureAirportCandidatesCount|estArrivalAirport|estArrivalAirportHorizDistance|estArrivalAirportVertDistance|estDepartureAirport|estDepartureAirportHorizDistance|estDepartureAirportVertDistance| firstSeen|icao24|  lastSeen|      dt|      dl_ts_captured|\n",
            "+-----------------------------+--------+-------------------------------+-----------------+------------------------------+-----------------------------+-------------------+--------------------------------+-------------------------------+----------+------+----------+--------+--------------------+\n",
            "|                            4|SSR07BM |                              0|             LIMC|                          1704|                          146|               LSZB|                             222|                            267|1673877398|300840|1673879133|20230116|2023-08-14 12:29:...|\n",
            "+-----------------------------+--------+-------------------------------+-----------------+------------------------------+-----------------------------+-------------------+--------------------------------+-------------------------------+----------+------+----------+--------+--------------------+\n",
            "\n"
          ],
          "output_type" : "stream"
        }
      ]
    },
    {
      "cell_type" : "markdown",
      "execution_count" : 5,
      "metadata" : {
        "language" : "text"
      },
      "language" : "text",
      "source" : [
        "## Select data by using DataObjects configured in SmartDataLake\n",
        "\n"
      ],
      "outputs" : [
      ]
    },
    {
      "cell_type" : "code",
      "execution_count" : 6,
      "metadata" : {
        "cell.metadata.exec_info" : {
          "startTs" : 1692017179466,
          "endTs" : 1692017179820
        },
        "language" : "scala"
      },
      "language" : "scala",
      "source" : [
        "// import smartdatalake\r\n",
        "import io.smartdatalake.config.SdlConfigObject.stringToDataObjectId\r\n",
        "import io.smartdatalake.config.ConfigToolbox\r\n",
        "import io.smartdatalake.workflow.dataobject._\r\n",
        "import io.smartdatalake.workflow.ActionPipelineContext\r\n",
        "import io.smartdatalake.workflow.action.SDLExecutionId\r\n",
        "import io.smartdatalake.app.SmartDataLakeBuilderConfig\r\n",
        "import io.smartdatalake.workflow.ExecutionPhase\r\n",
        "implicit val ss = spark // make Spark session available implicitly"
      ],
      "outputs" : [
      ]
    },
    {
      "cell_type" : "code",
      "execution_count" : 7,
      "metadata" : {
        "cell.metadata.exec_info" : {
          "startTs" : 1692017182498,
          "endTs" : 1692017193739
        },
        "language" : "scala"
      },
      "language" : "scala",
      "source" : [
        "// read config from mounted directory\r\n",
        "val (registry, globalConfig) = ConfigToolbox.loadAndParseConfig(Seq(\"/mnt/config\"), Some(this.getClass.getClassLoader))\r\n",
        "// Create the context used by SDL objects\r\n",
        "implicit val context = ConfigToolbox.getDefaultActionPipelineContext(spark, registry)"
      ],
      "outputs" : [
      ]
    },
    {
      "cell_type" : "code",
      "execution_count" : 8,
      "metadata" : {
        "cell.metadata.exec_info" : {
          "startTs" : 1692017193749,
          "endTs" : 1692017197232
        },
        "language" : "scala"
      },
      "language" : "scala",
      "source" : [
        "// get a dataobject\r\n",
        "val dataIntAirports = registry.get[DeltaLakeTableDataObject](\"int-airports\")\r\n",
        "val dataIntDepartures = registry.get[DeltaLakeTableDataObject](\"int-departures\")"
      ],
      "outputs" : [
      ]
    },
    {
      "cell_type" : "code",
      "execution_count" : 9,
      "metadata" : {
        "cell.metadata.exec_info" : {
          "startTs" : 1641672290961,
          "endTs" : 1641672318479
        },
        "language" : "scala"
      },
      "language" : "scala",
      "source" : [
        "dataIntDepartures.dropTable"
      ],
      "outputs" : [
      ]
    },
    {
      "cell_type" : "code",
      "execution_count" : 10,
      "metadata" : {
        "cell.metadata.exec_info" : {
          "startTs" : 1692017197243,
          "endTs" : 1692017198722
        },
        "language" : "scala"
      },
      "language" : "scala",
      "source" : [
        "dataIntDepartures.getSparkDataFrame().show"
      ],
      "outputs" : [
        {
          "name" : "stdout",
          "text" : [
            "+-----------------------------+--------+-------------------------------+-----------------+------------------------------+-----------------------------+-------------------+--------------------------------+-------------------------------+----------+------+----------+--------+--------------------+\n",
            "|arrivalAirportCandidatesCount|callsign|departureAirportCandidatesCount|estArrivalAirport|estArrivalAirportHorizDistance|estArrivalAirportVertDistance|estDepartureAirport|estDepartureAirportHorizDistance|estDepartureAirportVertDistance| firstSeen|icao24|  lastSeen|      dt|      dl_ts_captured|\n",
            "+-----------------------------+--------+-------------------------------+-----------------+------------------------------+-----------------------------+-------------------+--------------------------------+-------------------------------+----------+------+----------+--------+--------------------+\n",
            "|                            4|SSR07BM |                              0|             LIMC|                          1704|                          146|               LSZB|                             222|                            267|1673877398|300840|1673879133|20230116|2023-08-14 12:29:...|\n",
            "|                            7|ECNCJ   |                              0|             LSZH|                           874|                          162|               LSZB|                             613|                            274|1673871458|3461c1|1673872428|20230116|2023-08-14 12:29:...|\n",
            "|                            0|HRN121  |                              0|             null|                          null|                         null|               LSZB|                            1196|                            343|1673864836|3e3735|1673867471|20230116|2023-08-14 12:29:...|\n",
            "|                            0|OEGDM   |                              0|             LOWI|                          2552|                          127|               LSZB|                             741|                             53|1673801276|4407c0|1673803586|20230115|2023-08-14 12:29:...|\n",
            "|                            2|IJM68A  |                              0|             LOWW|                          3478|                           76|               LSZB|                             319|                             15|1673801500|4409ff|1673805151|20230115|2023-08-14 12:29:...|\n",
            "|                            4|NJE7RF  |                              0|             EDDR|                          5217|                          470|               LSZB|                             727|                            320|1673861683|49410c|1673863586|20230116|2023-08-14 12:29:...|\n",
            "|                            5|PCH221  |                              0|             LSZC|                          4923|                          487|               LSZB|                              73|                            183|1673865789|4b0f07|1673867445|20230116|2023-08-14 12:29:...|\n",
            "|                            1|HUE12   |                              0|             LFMN|                          2727|                          240|               LSZB|                             668|                            259|1673877879|4b0f50|1673881555|20230116|2023-08-14 12:29:...|\n",
            "|                            4|LEU401  |                              0|             LSGT|                         12521|                          775|               LSZB|                             464|                             23|1673795299|4b1108|1673795934|20230115|2023-08-14 12:29:...|\n",
            "|                            4|HBKGK   |                              0|             LSZB|                          1678|                          312|               LSZB|                            1149|                            259|1673872660|4b1b0e|1673873776|20230116|2023-08-14 12:29:...|\n",
            "|                            4|HBKGN   |                              0|             LSZB|                          1444|                          244|               LSZB|                             921|                            228|1673858813|4b1b11|1673861515|20230116|2023-08-14 12:29:...|\n",
            "|                            4|RGA03   |                              0|             LSZJ|                         10531|                          496|               LSZB|                             298|                            259|1673880836|4b43ab|1673881583|20230116|2023-08-14 12:29:...|\n",
            "|                            3|SUI573  |                              0|             EHEH|                           806|                          267|               LSZB|                             284|                            190|1673859752|4b7fd4|1673862801|20230116|2023-08-14 12:29:...|\n",
            "|                            0|JFA01E  |                              0|             LFRM|                          1109|                          230|               LSZB|                             248|                            190|1673863309|4d02ae|1673869147|20230116|2023-08-14 12:29:...|\n",
            "|                            9|JFA37P  |                              0|             LFPB|                          1586|                          124|               LSZB|                             323|                             53|1673791771|4d02dd|1673796174|20230115|2023-08-14 12:29:...|\n",
            "|                            5|T7LLS   |                              0|             LSGT|                         11869|                          828|               LSZB|                             802|                            228|1673881606|5000b5|1673882695|20230116|2023-08-14 12:29:...|\n",
            "|                            7|N650MV  |                              0|             EGLF|                          2313|                          331|               LSZB|                             942|                            282|1673883225|a88de1|1673887851|20230116|2023-08-14 12:29:...|\n",
            "|                            1|N711LS  |                              0|             LIML|                          1394|                          181|               LSZB|                             738|                            251|1673885895|a980cf|1673887948|20230116|2023-08-14 12:29:...|\n",
            "|                            7|AHO853U |                              0|             LHBP|                          2117|                          100|               LSZB|                             780|                            228|1673868582|3c68b4|1673873036|20230116|2023-08-14 12:29:...|\n",
            "|                            0|HRN221  |                              0|             EICK|                          1431|                          182|               LSZB|                             384|                             53|1673789432|3ce977|1673796861|20230115|2023-08-14 12:29:...|\n",
            "+-----------------------------+--------+-------------------------------+-----------------+------------------------------+-----------------------------+-------------------+--------------------------------+-------------------------------+----------+------+----------+--------+--------------------+\n",
            "only showing top 20 rows\n",
            "\n"
          ],
          "output_type" : "stream"
        }
      ]
    }
  ]
}