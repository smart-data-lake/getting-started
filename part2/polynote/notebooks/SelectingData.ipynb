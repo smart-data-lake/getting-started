{
 "metadata": {
  "config": {
   "dependencies": {
    "scala": [
     "file:///mnt/lib/getting-started-1.0.jar"
    ]
   },
   "exclusions": [],
   "repositories": [
    {
     "maven": {
      "base": "https://oss.sonatype.org/content/repositories/snapshots/"
     }
    }
   ],
   "sparkConfig": {
    "spark.master": "local[*]",
    "spark.databricks.delta.snapshotPartitions": "2"
   },
   "env": {}
  },
  "language_info": {
   "name": "scala"
  }
 },
 "nbformat": 4,
 "nbformat_minor": 0,
 "cells": [
  {
   "cell_type": "markdown",
   "metadata": {
    "language": "text"
   },
   "language": "text",
   "source": [
    "## Show tables with Scala and Spark"
   ]
  },
  {
   "cell_type": "code",
   "execution_count": 1,
   "metadata": {
    "cell.metadata.exec_info": {
     "startTs": 1696248362767,
     "endTs": 1696248363508
    },
    "language": "scala"
   },
   "language": "scala",
   "source": [
    "spark.catalog.listTables.show(false)"
   ],
   "outputs": [
    {
     "name": "stdout",
     "text": [
      "+--------------------------------+--------+-----------+---------+-----------+\n",
      "|name                            |database|description|tableType|isTemporary|\n",
      "+--------------------------------+--------+-----------+---------+-----------+\n",
      "|btl_departures_arrivals_airports|default |null       |EXTERNAL |false      |\n",
      "|btl_distances                   |default |null       |EXTERNAL |false      |\n",
      "|int_airports                    |default |null       |EXTERNAL |false      |\n",
      "|int_departures                  |default |null       |EXTERNAL |false      |\n",
      "+--------------------------------+--------+-----------+---------+-----------+\n"
     ],
     "output_type": "stream"
    }
   ]
  },
  {
   "cell_type": "code",
   "execution_count": 2,
   "metadata": {
    "cell.metadata.exec_info": {
     "startTs": 1696248371584,
     "endTs": 1696248371881
    },
    "language": "scala"
   },
   "language": "scala",
   "source": [
    "spark.sql(\"select * from default.btl_distances where estarrivalairport = 'EDDR'\").show"
   ],
   "outputs": [
    {
     "name": "stdout",
     "text": [
      "+-------------------+-----------------+-------------------+------------------+-----------------+-----------------+----------------+-----------------+-----------------+---------------------+\n",
      "|estdepartureairport|estarrivalairport|           arr_name|  arr_latitude_deg|arr_longitude_deg|         dep_name|dep_latitude_deg|dep_longitude_deg|         distance|could_be_done_by_rail|\n",
      "+-------------------+-----------------+-------------------+------------------+-----------------+-----------------+----------------+-----------------+-----------------+---------------------+\n",
      "|               LSZB|             EDDR|Saarbrücken Airport|49.214599609400004|    7.10950994492|Bern-Belp Airport|       46.913419|         7.499747|257.5165792489347|                 true|\n",
      "+-------------------+-----------------+-------------------+------------------+-----------------+-----------------+----------------+-----------------+-----------------+---------------------+\n"
     ],
     "output_type": "stream"
    }
   ]
  },
  {
   "cell_type": "code",
   "execution_count": 3,
   "metadata": {
    "cell.metadata.exec_info": {
     "startTs": 1696248377398,
     "endTs": 1696248383704
    },
    "language": "scala"
   },
   "language": "scala",
   "source": [
    "spark.table(\"default.int_departures\").where($\"estarrivalairport\"===\"LIMC\").show"
   ],
   "outputs": [
    {
     "name": "stdout",
     "text": [
      "+-----------------------------+--------+-------------------------------+-----------------+------------------------------+-----------------------------+-------------------+--------------------------------+-------------------------------+----------+------+----------+--------+--------------------+\n",
      "|arrivalAirportCandidatesCount|callsign|departureAirportCandidatesCount|estArrivalAirport|estArrivalAirportHorizDistance|estArrivalAirportVertDistance|estDepartureAirport|estDepartureAirportHorizDistance|estDepartureAirportVertDistance| firstSeen|icao24|  lastSeen|      dt|      dl_ts_captured|\n",
      "+-----------------------------+--------+-------------------------------+-----------------+------------------------------+-----------------------------+-------------------+--------------------------------+-------------------------------+----------+------+----------+--------+--------------------+\n",
      "|                            4|SSR07BM |                              0|             LIMC|                          1704|                          146|               LSZB|                             222|                            267|1673877398|300840|1673879133|20230116|2023-08-14 12:29:...|\n",
      "+-----------------------------+--------+-------------------------------+-----------------+------------------------------+-----------------------------+-------------------+--------------------------------+-------------------------------+----------+------+----------+--------+--------------------+\n"
     ],
     "output_type": "stream"
    }
   ]
  },
  {
   "cell_type": "markdown",
   "metadata": {
    "language": "text"
   },
   "language": "text",
   "source": [
    "## Select data by using DataObjects configured in SmartDataLake"
   ]
  },
  {
   "cell_type": "code",
   "execution_count": 5,
   "metadata": {
    "cell.metadata.exec_info": {
     "startTs": 1696248554674,
     "endTs": 1696248554830
    },
    "language": "scala"
   },
   "language": "scala",
   "source": [
    "// import smartdatalake\n",
    "import io.smartdatalake.config.SdlConfigObject.stringToDataObjectId\n",
    "import io.smartdatalake.config.ConfigToolbox\n",
    "import io.smartdatalake.workflow.dataobject._\n",
    "import io.smartdatalake.workflow.ActionPipelineContext\n",
    "import io.smartdatalake.workflow.action.SDLExecutionId\n",
    "import io.smartdatalake.app.SmartDataLakeBuilderConfig\n",
    "import io.smartdatalake.workflow.ExecutionPhase\n",
    "implicit val ss = spark // make Spark session available implicitly"
   ],
   "outputs": []
  },
  {
   "cell_type": "code",
   "execution_count": 6,
   "metadata": {
    "cell.metadata.exec_info": {
     "startTs": 1696248557466,
     "endTs": 1696248561908
    },
    "language": "scala"
   },
   "language": "scala",
   "source": [
    "// read config from mounted directory\n",
    "val (registry, globalConfig) = ConfigToolbox.loadAndParseConfig(Seq(\"/mnt/config\"), Some(this.getClass.getClassLoader))\n",
    "// Create the context used by SDL objects\n",
    "implicit val context = ConfigToolbox.getDefaultActionPipelineContext(spark, registry)"
   ],
   "outputs": []
  },
  {
   "cell_type": "code",
   "execution_count": 7,
   "metadata": {
    "cell.metadata.exec_info": {
     "startTs": 1696248666778,
     "endTs": 1696248667309
    },
    "language": "scala"
   },
   "language": "scala",
   "source": [
    "// get a dataobject\n",
    "val dataIntAirports = registry.get[DeltaLakeTableDataObject](\"int-airports\")\n",
    "val dataIntDepartures = registry.get[DeltaLakeTableDataObject](\"int-departures\")"
   ],
   "outputs": []
  },
  {
   "cell_type": "markdown",
   "metadata": {
    "language": "text"
   },
   "language": "text",
   "source": [
    "## Historization of airport data"
   ]
  },
  {
   "cell_type": "code",
   "execution_count": 9,
   "metadata": {
    "cell.metadata.exec_info": {
     "startTs": 1696248566953,
     "endTs": 1696248568895
    },
    "language": "scala"
   },
   "language": "scala",
   "source": [
    "dataIntDepartures.dropTable"
   ],
   "outputs": []
  },
  {
   "cell_type": "markdown",
   "metadata": {
    "language": "text"
   },
   "language": "text",
   "source": [
    "Start Action historize-airports"
   ]
  },
  {
   "cell_type": "code",
   "execution_count": 12,
   "metadata": {
    "cell.metadata.exec_info": {
     "startTs": 1696248677905,
     "endTs": 1696248678812
    },
    "language": "scala"
   },
   "language": "scala",
   "source": [
    "dataIntAirports.getSparkDataFrame().printSchema"
   ],
   "outputs": [
    {
     "name": "stdout",
     "text": [
      "root\n",
      " |-- ident: string (nullable = true)\n",
      " |-- name: string (nullable = true)\n",
      " |-- latitude_deg: string (nullable = true)\n",
      " |-- longitude_deg: string (nullable = true)\n",
      " |-- dl_ts_captured: timestamp (nullable = true)\n",
      " |-- dl_ts_delimited: timestamp (nullable = true)\n"
     ],
     "output_type": "stream"
    }
   ]
  },
  {
   "cell_type": "code",
   "execution_count": 13,
   "metadata": {
    "cell.metadata.exec_info": {
     "startTs": 1696248732512,
     "endTs": 1696248733505
    },
    "language": "scala"
   },
   "language": "scala",
   "source": [
    "dataIntAirports.getSparkDataFrame().orderBy($\"ident\",$\"dl_ts_captured\").show"
   ],
   "outputs": [
    {
     "name": "stdout",
     "text": [
      "+-----+--------------------+------------------+-------------------+--------------------+-------------------+\n",
      "|ident|                name|      latitude_deg|      longitude_deg|      dl_ts_captured|    dl_ts_delimited|\n",
      "+-----+--------------------+------------------+-------------------+--------------------+-------------------+\n",
      "|  00A|   Total RF Heliport|         40.070985|         -74.933689|2023-10-02 12:10:...|9999-12-31 00:00:00|\n",
      "| 00AA|Aero B Ranch Airport|         38.704022|        -101.473911|2023-10-02 12:10:...|9999-12-31 00:00:00|\n",
      "| 00AK|        Lowell Field|         59.947733|        -151.692524|2023-10-02 12:10:...|9999-12-31 00:00:00|\n",
      "| 00AL|        Epps Airpark| 34.86479949951172| -86.77030181884766|2023-10-02 12:10:...|9999-12-31 00:00:00|\n",
      "| 00AN|Katmai Lodge Airport|         59.093287|        -156.456699|2023-10-02 12:10:...|9999-12-31 00:00:00|\n",
      "| 00AR|Newport Hospital ...|           35.6087|         -91.254898|2023-10-02 12:10:...|9999-12-31 00:00:00|\n",
      "| 00AS|      Fulton Airport|        34.9428028|        -97.8180194|2023-10-02 12:10:...|9999-12-31 00:00:00|\n",
      "| 00AZ|      Cordes Airport|34.305599212646484|-112.16500091552734|2023-10-02 12:10:...|9999-12-31 00:00:00|\n",
      "| 00CA|Goldstone (GTS) A...|          35.35474|        -116.885329|2023-10-02 12:10:...|9999-12-31 00:00:00|\n",
      "| 00CL| Williams Ag Airport|         39.427188|        -121.763427|2023-10-02 12:10:...|9999-12-31 00:00:00|\n",
      "| 00CN|Kitchen Creek Hel...|        32.7273736|       -116.4597417|2023-10-02 12:10:...|9999-12-31 00:00:00|\n",
      "| 00CO|          Cass Field|         40.622202|        -104.344002|2023-10-02 12:10:...|9999-12-31 00:00:00|\n",
      "| 00FA| Grass Patch Airport| 28.64550018310547| -82.21900177001953|2023-10-02 12:10:...|9999-12-31 00:00:00|\n",
      "| 00FD|  Ringhaver Heliport|           28.8466|         -82.345398|2023-10-02 12:10:...|9999-12-31 00:00:00|\n",
      "| 00FL|   River Oak Airport|27.230899810791016| -80.96920013427734|2023-10-02 12:10:...|9999-12-31 00:00:00|\n",
      "| 00GA|    Lt World Airport| 33.76750183105469| -84.06829833984375|2023-10-02 12:10:...|9999-12-31 00:00:00|\n",
      "| 00GE|    Caffrey Heliport|         33.887982|         -84.736983|2023-10-02 12:10:...|9999-12-31 00:00:00|\n",
      "| 00HI|  Kaupulehu Heliport|         19.832881|        -155.978347|2023-10-02 12:10:...|9999-12-31 00:00:00|\n",
      "| 00ID|Delta Shores Airport|48.145301818847656|-116.21399688720703|2023-10-02 12:10:...|9999-12-31 00:00:00|\n",
      "| 00IG|       Goltl Airport|         39.724028|        -101.395994|2023-10-02 12:10:...|9999-12-31 00:00:00|\n",
      "+-----+--------------------+------------------+-------------------+--------------------+-------------------+\n"
     ],
     "output_type": "stream"
    }
   ]
  },
  {
   "cell_type": "code",
   "execution_count": 14,
   "metadata": {
    "cell.metadata.exec_info": {
     "startTs": 1696248782970,
     "endTs": 1696248783509
    },
    "language": "scala"
   },
   "language": "scala",
   "source": [
    "dataIntAirports.dropTable"
   ],
   "outputs": []
  },
  {
   "cell_type": "markdown",
   "metadata": {
    "language": "text"
   },
   "language": "text",
   "source": [
    "Delete all files in data/stg-airport and copy the historical result.csv from the folder data-fallback-download/stg-airport into the folder data/stg-aiport.\n",
    "Now start the action historize-airports. Afterwards, start actions download-airports and historize-airports to download fresh data and build up the airport history."
   ]
  },
  {
   "cell_type": "code",
   "execution_count": 16,
   "metadata": {
    "cell.metadata.exec_info": {
     "startTs": 1696248897427,
     "endTs": 1696248899515
    },
    "language": "scala"
   },
   "language": "scala",
   "source": [
    "dataIntAirports.getSparkDataFrame()\n",
    "  .groupBy($\"ident\").count\n",
    "  .orderBy($\"count\".desc)\n",
    "  .show"
   ],
   "outputs": [
    {
     "name": "stdout",
     "text": [
      "+-------+-----+\n",
      "|  ident|count|\n",
      "+-------+-----+\n",
      "|   0OH7|    2|\n",
      "|   MTPX|    2|\n",
      "|   1CL8|    2|\n",
      "|   2LA2|    2|\n",
      "|   36FA|    2|\n",
      "|   8LL0|    2|\n",
      "|AF-0006|    2|\n",
      "|AU-0083|    2|\n",
      "|CA-0259|    2|\n",
      "|   ESSX|    2|\n",
      "|   FBGD|    2|\n",
      "|   GE25|    2|\n",
      "|HU-0043|    2|\n",
      "|   K1O4|    2|\n",
      "|   KAAT|    2|\n",
      "|   KCKA|    2|\n",
      "|KZ-0016|    2|\n",
      "|   LA65|    2|\n",
      "|   LETC|    2|\n",
      "|   LOGP|    2|\n",
      "+-------+-----+\n"
     ],
     "output_type": "stream"
    }
   ]
  },
  {
   "cell_type": "code",
   "execution_count": 17,
   "metadata": {
    "cell.metadata.exec_info": {
     "startTs": 1696248908962,
     "endTs": 1696248909991
    },
    "language": "scala"
   },
   "language": "scala",
   "source": [
    "dataIntAirports.getSparkDataFrame()\n",
    "  .where($\"ident\"===\"CDV3\")\n",
    "  .show(false)"
   ],
   "outputs": [
    {
     "name": "stdout",
     "text": [
      "+-----+-------------------------------------------------+-------------+--------------+--------------------------+--------------------------+\n",
      "|ident|name                                             |latitude_deg |longitude_deg |dl_ts_captured            |dl_ts_delimited           |\n",
      "+-----+-------------------------------------------------+-------------+--------------+--------------------------+--------------------------+\n",
      "|CDV3 |Charlottetown (Queen Elizabeth Hospital) Heliport|46.2554925916|-63.0988866091|2023-10-02 12:14:02.575663|2023-10-02 12:14:28.086627|\n",
      "|CDV3 |Charlottetown (Queen Elizabeth Hospital) Heliport|46.255493    |-63.098887    |2023-10-02 12:14:28.087627|9999-12-31 00:00:00       |\n",
      "+-----+-------------------------------------------------+-------------+--------------+--------------------------+--------------------------+\n"
     ],
     "output_type": "stream"
    }
   ]
  },
  {
   "cell_type": "markdown",
   "metadata": {
    "language": "text"
   },
   "language": "text",
   "source": [
    "## Deduplication of flight data"
   ]
  },
  {
   "cell_type": "code",
   "execution_count": 19,
   "metadata": {
    "cell.metadata.exec_info": {
     "startTs": 1696250272927,
     "endTs": 1696250273348
    },
    "language": "scala"
   },
   "language": "scala",
   "source": [
    "val dataIntDepartures = registry.get[DeltaLakeTableDataObject](\"int-departures\")\n",
    "dataIntDepartures.dropTable"
   ],
   "outputs": []
  },
  {
   "cell_type": "markdown",
   "metadata": {
    "language": "text"
   },
   "language": "text",
   "source": [
    "Start Action deduplicate-departures"
   ]
  },
  {
   "cell_type": "code",
   "execution_count": 21,
   "metadata": {
    "cell.metadata.exec_info": {
     "startTs": 1696250359117,
     "endTs": 1696250360004
    },
    "language": "scala"
   },
   "language": "scala",
   "source": [
    "dataIntDepartures.getSparkDataFrame().printSchema"
   ],
   "outputs": [
    {
     "name": "stdout",
     "text": [
      "root\n",
      " |-- arrivalAirportCandidatesCount: long (nullable = true)\n",
      " |-- callsign: string (nullable = true)\n",
      " |-- departureAirportCandidatesCount: long (nullable = true)\n",
      " |-- estArrivalAirport: string (nullable = true)\n",
      " |-- estArrivalAirportHorizDistance: long (nullable = true)\n",
      " |-- estArrivalAirportVertDistance: long (nullable = true)\n",
      " |-- estDepartureAirport: string (nullable = true)\n",
      " |-- estDepartureAirportHorizDistance: long (nullable = true)\n",
      " |-- estDepartureAirportVertDistance: long (nullable = true)\n",
      " |-- firstSeen: long (nullable = true)\n",
      " |-- icao24: string (nullable = true)\n",
      " |-- lastSeen: long (nullable = true)\n",
      " |-- dt: string (nullable = true)\n",
      " |-- dl_ts_captured: timestamp (nullable = true)\n"
     ],
     "output_type": "stream"
    }
   ]
  },
  {
   "cell_type": "code",
   "execution_count": 22,
   "metadata": {
    "cell.metadata.exec_info": {
     "startTs": 1696250362051,
     "endTs": 1696250362667
    },
    "language": "scala"
   },
   "language": "scala",
   "source": [
    "dataIntDepartures.getSparkDataFrame()\n",
    "  .groupBy($\"icao24\", $\"estdepartureairport\", $\"dt\")\n",
    "  .count\n",
    "  .orderBy($\"count\".desc)\n",
    "  .show"
   ],
   "outputs": [
    {
     "name": "stdout",
     "text": [
      "+------+-------------------+--------+-----+\n",
      "|icao24|estdepartureairport|      dt|count|\n",
      "+------+-------------------+--------+-----+\n",
      "|4b43ab|               LSZB|20210829|    3|\n",
      "|4b4b8d|               LSZB|20210829|    3|\n",
      "|4b1b13|               LSZB|20210829|    2|\n",
      "|4b4445|               LSZB|20210829|    2|\n",
      "|4b4442|               LSZB|20210829|    1|\n",
      "|4b43ab|               LSZB|20210830|    1|\n",
      "|346603|               LSZB|20210829|    1|\n",
      "|4b4449|               LSZB|20210829|    1|\n",
      "|4b0f70|               LSZB|20210830|    1|\n",
      "|49d283|               LSZB|20210829|    1|\n",
      "|4b1a01|               LSZB|20210829|    1|\n",
      "|4b4445|               LSZB|20210830|    1|\n",
      "|4b51fa|               LSZB|20210829|    1|\n",
      "|aa0da1|               LSZB|20210829|    1|\n",
      "|4d02d7|               LSZB|20210829|    1|\n",
      "|4b1b12|               LSZB|20210829|    1|\n",
      "|494108|               LSZB|20210829|    1|\n",
      "|4b3049|               LSZB|20210829|    1|\n",
      "|4b1f2f|               LSZB|20210830|    1|\n",
      "|44046b|               LSZB|20210829|    1|\n",
      "+------+-------------------+--------+-----+\n"
     ],
     "output_type": "stream"
    }
   ]
  }
 ]
}
