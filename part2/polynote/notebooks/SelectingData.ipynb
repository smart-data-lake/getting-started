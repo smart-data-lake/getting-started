{
  "metadata" : {
    "config" : {
      "dependencies" : {
        "scala" : [
          "file:///mnt/lib/getting-started-1.0.jar"
        ]
      },
      "exclusions" : [
      ],
      "repositories" : [
        {
          "maven" : {
            "base" : "https://oss.sonatype.org/content/repositories/snapshots/"
          }
        }
      ],
      "sparkConfig" : {
        "spark.master" : "local[*]",
        "spark.databricks.delta.snapshotPartitions" : "2"
      },
      "env" : {
        
      }
    },
    "language_info" : {
      "name" : "scala"
    }
  },
  "nbformat" : 4,
  "nbformat_minor" : 0,
  "cells" : [
    {
      "cell_type" : "markdown",
      "execution_count" : 0,
      "metadata" : {
        "language" : "text"
      },
      "language" : "text",
      "source" : [
        "## Show tables with Scala and Spark\n",
        "\n"
      ],
      "outputs" : [
      ]
    },
    {
      "cell_type" : "code",
      "execution_count" : 1,
      "metadata" : {
        "cell.metadata.exec_info" : {
          "startTs" : 1691127361579,
          "endTs" : 1691127361830
        },
        "language" : "scala"
      },
      "language" : "scala",
      "source" : [
        "spark.catalog.listTables.show(false)"
      ],
      "outputs" : [
        {
          "name" : "stdout",
          "text" : [
            "+--------------------------------+--------+-----------+---------+-----------+\n",
            "|name                            |database|description|tableType|isTemporary|\n",
            "+--------------------------------+--------+-----------+---------+-----------+\n",
            "|btl_departures_arrivals_airports|default |null       |EXTERNAL |false      |\n",
            "|btl_distances                   |default |null       |EXTERNAL |false      |\n",
            "|int_airports                    |default |null       |EXTERNAL |false      |\n",
            "|int_departures                  |default |null       |EXTERNAL |false      |\n",
            "+--------------------------------+--------+-----------+---------+-----------+\n",
            "\n"
          ],
          "output_type" : "stream"
        }
      ]
    },
    {
      "cell_type" : "code",
      "execution_count" : 4,
      "metadata" : {
        "cell.metadata.exec_info" : {
          "startTs" : 1691127764516,
          "endTs" : 1691127765100
        },
        "language" : "scala"
      },
      "language" : "scala",
      "source" : [
        "spark.sql(\"select * from default.btl_distances where estarrivalairport = 'EDDM'\").show"
      ],
      "outputs" : [
        {
          "name" : "stdout",
          "text" : [
            "+-------------------+-----------------+--------------+----------------+-----------------+-----------------+----------------+-----------------+------------------+---------------------+\n",
            "|estdepartureairport|estarrivalairport|      arr_name|arr_latitude_deg|arr_longitude_deg|         dep_name|dep_latitude_deg|dep_longitude_deg|          distance|could_be_done_by_rail|\n",
            "+-------------------+-----------------+--------------+----------------+-----------------+-----------------+----------------+-----------------+------------------+---------------------+\n",
            "|               LSZB|             EDDM|Munich Airport|       48.353802|          11.7861|Bern-Belp Airport|       46.913419|         7.499747|358.82802268724186|                 true|\n",
            "+-------------------+-----------------+--------------+----------------+-----------------+-----------------+----------------+-----------------+------------------+---------------------+\n",
            "\n"
          ],
          "output_type" : "stream"
        }
      ]
    },
    {
      "cell_type" : "code",
      "execution_count" : 5,
      "metadata" : {
        "cell.metadata.exec_info" : {
          "startTs" : 1691127311005,
          "endTs" : 1691127311452
        },
        "language" : "scala"
      },
      "language" : "scala",
      "source" : [
        "spark.table(\"default.int_departures\").where($\"estarrivalairport\"===\"LEPA\").show"
      ],
      "outputs" : [
        {
          "name" : "stdout",
          "text" : [
            "+-----------------------------+--------+-------------------------------+-----------------+------------------------------+-----------------------------+-------------------+--------------------------------+-------------------------------+---------+------+--------+---+--------------+\n",
            "|arrivalAirportCandidatesCount|callsign|departureAirportCandidatesCount|estArrivalAirport|estArrivalAirportHorizDistance|estArrivalAirportVertDistance|estDepartureAirport|estDepartureAirportHorizDistance|estDepartureAirportVertDistance|firstSeen|icao24|lastSeen| dt|dl_ts_captured|\n",
            "+-----------------------------+--------+-------------------------------+-----------------+------------------------------+-----------------------------+-------------------+--------------------------------+-------------------------------+---------+------+--------+---+--------------+\n",
            "+-----------------------------+--------+-------------------------------+-----------------+------------------------------+-----------------------------+-------------------+--------------------------------+-------------------------------+---------+------+--------+---+--------------+\n",
            "\n"
          ],
          "output_type" : "stream"
        }
      ]
    },
    {
      "cell_type" : "markdown",
      "execution_count" : 6,
      "metadata" : {
        "language" : "text"
      },
      "language" : "text",
      "source" : [
        "## Select data by using DataObjects configured in SmartDataLake\n",
        "\n"
      ],
      "outputs" : [
      ]
    },
    {
      "cell_type" : "code",
      "execution_count" : 7,
      "metadata" : {
        "cell.metadata.exec_info" : {
          "startTs" : 1691128132408,
          "endTs" : 1691128132527
        },
        "language" : "scala"
      },
      "language" : "scala",
      "source" : [
        "// import smartdatalake\r\n",
        "import io.smartdatalake.config.SdlConfigObject.stringToDataObjectId\r\n",
        "import io.smartdatalake.config.ConfigToolbox\r\n",
        "import io.smartdatalake.workflow.dataobject._\r\n",
        "import io.smartdatalake.workflow.ActionPipelineContext\r\n",
        "import io.smartdatalake.workflow.action.SDLExecutionId\r\n",
        "import io.smartdatalake.app.SmartDataLakeBuilderConfig\r\n",
        "import io.smartdatalake.workflow.ExecutionPhase\r\n",
        "implicit val ss = spark // make Spark session available implicitly"
      ],
      "outputs" : [
      ]
    },
    {
      "cell_type" : "code",
      "execution_count" : 8,
      "metadata" : {
        "cell.metadata.exec_info" : {
          "startTs" : 1691128134733,
          "endTs" : 1691128139585
        },
        "language" : "scala"
      },
      "language" : "scala",
      "source" : [
        "// read config from mounted directory\r\n",
        "val (registry, globalConfig) = ConfigToolbox.loadAndParseConfig(Seq(\"/mnt/config\"), Some(this.getClass.getClassLoader))\r\n",
        "// Create the context used by SDL objects\r\n",
        "implicit val context = ConfigToolbox.getDefaultActionPipelineContext(spark, registry)"
      ],
      "outputs" : [
      ]
    },
    {
      "cell_type" : "code",
      "execution_count" : 9,
      "metadata" : {
        "cell.metadata.exec_info" : {
          "startTs" : 1691128139589,
          "endTs" : 1691128140373
        },
        "language" : "scala"
      },
      "language" : "scala",
      "source" : [
        "// get a dataobject\r\n",
        "val dataIntAirports = registry.get[DeltaLakeTableDataObject](\"int-airports\")\r\n",
        "val dataIntDepartures = registry.get[DeltaLakeTableDataObject](\"int-departures\")"
      ],
      "outputs" : [
      ]
    },
    {
      "cell_type" : "code",
      "execution_count" : 10,
      "metadata" : {
        "cell.metadata.exec_info" : {
          "startTs" : 1641672290961,
          "endTs" : 1641672318479
        },
        "language" : "scala"
      },
      "language" : "scala",
      "source" : [
        "dataIntDepartures.dropTable"
      ],
      "outputs" : [
      ]
    },
    {
      "cell_type" : "code",
      "execution_count" : 11,
      "metadata" : {
        "cell.metadata.exec_info" : {
          "startTs" : 1691128141680,
          "endTs" : 1691128142909
        },
        "language" : "scala"
      },
      "language" : "scala",
      "source" : [
        "dataIntDepartures.getSparkDataFrame().show"
      ],
      "outputs" : [
        {
          "name" : "stdout",
          "text" : [
            "+-----------------------------+--------+-------------------------------+-----------------+------------------------------+-----------------------------+-------------------+--------------------------------+-------------------------------+----------+------+----------+--------+--------------------+\n",
            "|arrivalAirportCandidatesCount|callsign|departureAirportCandidatesCount|estArrivalAirport|estArrivalAirportHorizDistance|estArrivalAirportVertDistance|estDepartureAirport|estDepartureAirportHorizDistance|estDepartureAirportVertDistance| firstSeen|icao24|  lastSeen|      dt|      dl_ts_captured|\n",
            "+-----------------------------+--------+-------------------------------+-----------------+------------------------------+-----------------------------+-------------------+--------------------------------+-------------------------------+----------+------+----------+--------+--------------------+\n",
            "|                            4|SSR07BM |                              0|             LIMC|                          1704|                          146|               LSZB|                             222|                            267|1673877398|300840|1673879133|20230116|2023-08-04 05:39:...|\n",
            "|                            7|ECNCJ   |                              0|             LSZH|                           874|                          162|               LSZB|                             613|                            274|1673871458|3461c1|1673872428|20230116|2023-08-04 05:39:...|\n",
            "|                            0|HRN121  |                              0|             null|                          null|                         null|               LSZB|                            1196|                            343|1673864836|3e3735|1673867471|20230116|2023-08-04 05:39:...|\n",
            "|                            0|OEGDM   |                              0|             LOWI|                          2552|                          127|               LSZB|                             741|                             53|1673801276|4407c0|1673803586|20230115|2023-08-04 05:39:...|\n",
            "|                            2|IJM68A  |                              0|             LOWW|                          3478|                           76|               LSZB|                             319|                             15|1673801500|4409ff|1673805151|20230115|2023-08-04 05:39:...|\n",
            "|                          115|OEKIA   |                            115|             LSZB|                           533|                           46|               LSZB|                             558|                             46|1690956684|440c42|1690956832|20230802|2023-08-03 13:16:...|\n",
            "|                            4|NJE7RF  |                              0|             EDDR|                          5217|                          470|               LSZB|                             727|                            320|1673861683|49410c|1673863586|20230116|2023-08-04 05:39:...|\n",
            "|                            5|PCH221  |                              0|             LSZC|                          4923|                          487|               LSZB|                              73|                            183|1673865789|4b0f07|1673867445|20230116|2023-08-04 05:39:...|\n",
            "|                            1|HUE12   |                              0|             LFMN|                          2727|                          240|               LSZB|                             668|                            259|1673877879|4b0f50|1673881555|20230116|2023-08-04 05:39:...|\n",
            "|                            4|LEU401  |                              0|             LSGT|                         12521|                          775|               LSZB|                             464|                             23|1673795299|4b1108|1673795934|20230115|2023-08-04 05:39:...|\n",
            "|                            4|HBKGK   |                              0|             LSZB|                          1678|                          312|               LSZB|                            1149|                            259|1673872660|4b1b0e|1673873776|20230116|2023-08-04 05:39:...|\n",
            "|                            4|HBKGN   |                              0|             LSZB|                          1444|                          244|               LSZB|                             921|                            228|1673858813|4b1b11|1673861515|20230116|2023-08-04 05:39:...|\n",
            "|                            3|HBKGO   |                              0|             LSZB|                           372|                           76|               LSZB|                             500|                             76|1690974458|4b1b12|1690976863|20230802|2023-08-04 05:35:...|\n",
            "|                            3|HBKGP   |                              0|             LSZR|                          1627|                          158|               LSZB|                             816|                            114|1690960730|4b1b13|1690964129|20230802|2023-08-04 05:35:...|\n",
            "|                            4|HBKRA   |                              0|             LOWL|                          5568|                          440|               LSZB|                             625|                             76|1690970508|4b1c22|1690976037|20230802|2023-08-04 05:35:...|\n",
            "|                            4|RGA03   |                              0|             LSZJ|                         10531|                          496|               LSZB|                             298|                            259|1673880836|4b43ab|1673881583|20230116|2023-08-04 05:39:...|\n",
            "|                            3|SUI573  |                              0|             EHEH|                           806|                          267|               LSZB|                             284|                            190|1673859752|4b7fd4|1673862801|20230116|2023-08-04 05:39:...|\n",
            "|                            0|JFA01E  |                              0|             LFRM|                          1109|                          230|               LSZB|                             248|                            190|1673863309|4d02ae|1673869147|20230116|2023-08-04 05:39:...|\n",
            "|                            9|JFA37P  |                              0|             LFPB|                          1586|                          124|               LSZB|                             323|                             53|1673791771|4d02dd|1673796174|20230115|2023-08-04 05:39:...|\n",
            "|                            3|AXY672H |                              0|             EDDM|                          2004|                          103|               LSZB|                             483|                             76|1690974888|4d2468|1690977271|20230802|2023-08-04 05:35:...|\n",
            "+-----------------------------+--------+-------------------------------+-----------------+------------------------------+-----------------------------+-------------------+--------------------------------+-------------------------------+----------+------+----------+--------+--------------------+\n",
            "only showing top 20 rows\n",
            "\n"
          ],
          "output_type" : "stream"
        }
      ]
    }
  ]
}